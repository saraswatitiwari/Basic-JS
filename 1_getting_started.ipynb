{
  "nbformat": 4,
  "nbformat_minor": 0,
  "metadata": {
    "colab": {
      "name": "1_getting_started.ipynb",
      "provenance": [],
      "collapsed_sections": [],
      "include_colab_link": true
    },
    "kernelspec": {
      "name": "python3",
      "display_name": "Python 3"
    },
    "accelerator": "GPU"
  },
  "cells": [
    {
      "cell_type": "markdown",
      "metadata": {
        "id": "view-in-github",
        "colab_type": "text"
      },
      "source": [
        "<a href=\"https://colab.research.google.com/github/saraswatitiwari/Basic-JS/blob/master/1_getting_started.ipynb\" target=\"_parent\"><img src=\"https://colab.research.google.com/assets/colab-badge.svg\" alt=\"Open In Colab\"/></a>"
      ]
    },
    {
      "cell_type": "markdown",
      "metadata": {
        "id": "hyyN-2qyK_T2"
      },
      "source": [
        "# Stable Baselines3 Tutorial - Getting Started\n",
        "\n",
        "Github repo: https://github.com/araffin/rl-tutorial-jnrr19/tree/sb3/\n",
        "\n",
        "Stable-Baselines3: https://github.com/DLR-RM/stable-baselines3\n",
        "\n",
        "Documentation: https://stable-baselines3.readthedocs.io/en/master/\n",
        "\n",
        "RL Baselines3 zoo: https://github.com/DLR-RM/rl-baselines3-zoo\n",
        "\n",
        "[RL Baselines3 Zoo](https://github.com/DLR-RM/rl-baselines3-zoo) is a collection of pre-trained Reinforcement Learning agents using Stable-Baselines3.\n",
        "\n",
        "It also provides basic scripts for training, evaluating agents, tuning hyperparameters and recording videos.\n",
        "\n",
        "\n",
        "## Introduction\n",
        "\n",
        "In this notebook, you will learn the basics for using stable baselines library: how to create a RL model, train it and evaluate it. Because all algorithms share the same interface, we will see how simple it is to switch from one algorithm to another.\n",
        "\n",
        "\n",
        "## Install Dependencies and Stable Baselines3 Using Pip\n",
        "\n",
        "List of full dependencies can be found in the [README](https://github.com/DLR-RM/stable-baselines3).\n",
        "\n",
        "\n",
        "```\n",
        "pip install stable-baselines3[extra]\n",
        "```"
      ]
    },
    {
      "cell_type": "code",
      "metadata": {
        "id": "gWskDE2c9WoN",
        "colab": {
          "base_uri": "https://localhost:8080/"
        },
        "outputId": "f01f8862-8d02-4321-ef93-e63deb6f4b7b"
      },
      "source": [
        "!apt-get install ffmpeg freeglut3-dev xvfb  # For visualization\n",
        "!pip install stable-baselines3[extra]"
      ],
      "execution_count": 1,
      "outputs": [
        {
          "output_type": "stream",
          "name": "stdout",
          "text": [
            "Reading package lists... Done\n",
            "Building dependency tree       \n",
            "Reading state information... Done\n",
            "freeglut3-dev is already the newest version (2.8.1-3).\n",
            "freeglut3-dev set to manually installed.\n",
            "ffmpeg is already the newest version (7:3.4.11-0ubuntu0.1).\n",
            "The following package was automatically installed and is no longer required:\n",
            "  libnvidia-common-460\n",
            "Use 'apt autoremove' to remove it.\n",
            "The following NEW packages will be installed:\n",
            "  xvfb\n",
            "0 upgraded, 1 newly installed, 0 to remove and 49 not upgraded.\n",
            "Need to get 784 kB of archives.\n",
            "After this operation, 2,271 kB of additional disk space will be used.\n",
            "Get:1 http://archive.ubuntu.com/ubuntu bionic-updates/universe amd64 xvfb amd64 2:1.19.6-1ubuntu4.10 [784 kB]\n",
            "Fetched 784 kB in 2s (381 kB/s)\n",
            "Selecting previously unselected package xvfb.\n",
            "(Reading database ... 155639 files and directories currently installed.)\n",
            "Preparing to unpack .../xvfb_2%3a1.19.6-1ubuntu4.10_amd64.deb ...\n",
            "Unpacking xvfb (2:1.19.6-1ubuntu4.10) ...\n",
            "Setting up xvfb (2:1.19.6-1ubuntu4.10) ...\n",
            "Processing triggers for man-db (2.8.3-2ubuntu0.1) ...\n",
            "Looking in indexes: https://pypi.org/simple, https://us-python.pkg.dev/colab-wheels/public/simple/\n",
            "Collecting stable-baselines3[extra]\n",
            "  Downloading stable_baselines3-1.5.0-py3-none-any.whl (177 kB)\n",
            "\u001b[K     |████████████████████████████████| 177 kB 35.8 MB/s \n",
            "\u001b[?25hRequirement already satisfied: cloudpickle in /usr/local/lib/python3.7/dist-packages (from stable-baselines3[extra]) (1.3.0)\n",
            "Requirement already satisfied: matplotlib in /usr/local/lib/python3.7/dist-packages (from stable-baselines3[extra]) (3.2.2)\n",
            "Requirement already satisfied: numpy in /usr/local/lib/python3.7/dist-packages (from stable-baselines3[extra]) (1.21.6)\n",
            "Requirement already satisfied: torch>=1.8.1 in /usr/local/lib/python3.7/dist-packages (from stable-baselines3[extra]) (1.11.0+cu113)\n",
            "Requirement already satisfied: pandas in /usr/local/lib/python3.7/dist-packages (from stable-baselines3[extra]) (1.3.5)\n",
            "Collecting gym==0.21\n",
            "  Downloading gym-0.21.0.tar.gz (1.5 MB)\n",
            "\u001b[K     |████████████████████████████████| 1.5 MB 56.2 MB/s \n",
            "\u001b[?25hCollecting ale-py~=0.7.4\n",
            "  Downloading ale_py-0.7.5-cp37-cp37m-manylinux_2_17_x86_64.manylinux2014_x86_64.whl (1.6 MB)\n",
            "\u001b[K     |████████████████████████████████| 1.6 MB 68.5 MB/s \n",
            "\u001b[?25hRequirement already satisfied: pillow in /usr/local/lib/python3.7/dist-packages (from stable-baselines3[extra]) (7.1.2)\n",
            "Requirement already satisfied: tensorboard>=2.2.0 in /usr/local/lib/python3.7/dist-packages (from stable-baselines3[extra]) (2.8.0)\n",
            "Requirement already satisfied: opencv-python in /usr/local/lib/python3.7/dist-packages (from stable-baselines3[extra]) (4.1.2.30)\n",
            "Requirement already satisfied: psutil in /usr/local/lib/python3.7/dist-packages (from stable-baselines3[extra]) (5.4.8)\n",
            "Collecting autorom[accept-rom-license]~=0.4.2\n",
            "  Downloading AutoROM-0.4.2-py3-none-any.whl (16 kB)\n",
            "Requirement already satisfied: importlib_metadata>=4.8.1 in /usr/local/lib/python3.7/dist-packages (from gym==0.21->stable-baselines3[extra]) (4.11.4)\n",
            "Requirement already satisfied: importlib-resources in /usr/local/lib/python3.7/dist-packages (from ale-py~=0.7.4->stable-baselines3[extra]) (5.7.1)\n",
            "Requirement already satisfied: click in /usr/local/lib/python3.7/dist-packages (from autorom[accept-rom-license]~=0.4.2->stable-baselines3[extra]) (7.1.2)\n",
            "Requirement already satisfied: tqdm in /usr/local/lib/python3.7/dist-packages (from autorom[accept-rom-license]~=0.4.2->stable-baselines3[extra]) (4.64.0)\n",
            "Requirement already satisfied: requests in /usr/local/lib/python3.7/dist-packages (from autorom[accept-rom-license]~=0.4.2->stable-baselines3[extra]) (2.23.0)\n",
            "Collecting AutoROM.accept-rom-license\n",
            "  Downloading AutoROM.accept-rom-license-0.4.2.tar.gz (9.8 kB)\n",
            "  Installing build dependencies ... \u001b[?25l\u001b[?25hdone\n",
            "  Getting requirements to build wheel ... \u001b[?25l\u001b[?25hdone\n",
            "    Preparing wheel metadata ... \u001b[?25l\u001b[?25hdone\n",
            "Requirement already satisfied: zipp>=0.5 in /usr/local/lib/python3.7/dist-packages (from importlib_metadata>=4.8.1->gym==0.21->stable-baselines3[extra]) (3.8.0)\n",
            "Requirement already satisfied: typing-extensions>=3.6.4 in /usr/local/lib/python3.7/dist-packages (from importlib_metadata>=4.8.1->gym==0.21->stable-baselines3[extra]) (4.1.1)\n",
            "Requirement already satisfied: tensorboard-data-server<0.7.0,>=0.6.0 in /usr/local/lib/python3.7/dist-packages (from tensorboard>=2.2.0->stable-baselines3[extra]) (0.6.1)\n",
            "Requirement already satisfied: protobuf>=3.6.0 in /usr/local/lib/python3.7/dist-packages (from tensorboard>=2.2.0->stable-baselines3[extra]) (3.17.3)\n",
            "Requirement already satisfied: absl-py>=0.4 in /usr/local/lib/python3.7/dist-packages (from tensorboard>=2.2.0->stable-baselines3[extra]) (1.1.0)\n",
            "Requirement already satisfied: markdown>=2.6.8 in /usr/local/lib/python3.7/dist-packages (from tensorboard>=2.2.0->stable-baselines3[extra]) (3.3.7)\n",
            "Requirement already satisfied: tensorboard-plugin-wit>=1.6.0 in /usr/local/lib/python3.7/dist-packages (from tensorboard>=2.2.0->stable-baselines3[extra]) (1.8.1)\n",
            "Requirement already satisfied: wheel>=0.26 in /usr/local/lib/python3.7/dist-packages (from tensorboard>=2.2.0->stable-baselines3[extra]) (0.37.1)\n",
            "Requirement already satisfied: setuptools>=41.0.0 in /usr/local/lib/python3.7/dist-packages (from tensorboard>=2.2.0->stable-baselines3[extra]) (57.4.0)\n",
            "Requirement already satisfied: grpcio>=1.24.3 in /usr/local/lib/python3.7/dist-packages (from tensorboard>=2.2.0->stable-baselines3[extra]) (1.46.3)\n",
            "Requirement already satisfied: werkzeug>=0.11.15 in /usr/local/lib/python3.7/dist-packages (from tensorboard>=2.2.0->stable-baselines3[extra]) (1.0.1)\n",
            "Requirement already satisfied: google-auth-oauthlib<0.5,>=0.4.1 in /usr/local/lib/python3.7/dist-packages (from tensorboard>=2.2.0->stable-baselines3[extra]) (0.4.6)\n",
            "Requirement already satisfied: google-auth<3,>=1.6.3 in /usr/local/lib/python3.7/dist-packages (from tensorboard>=2.2.0->stable-baselines3[extra]) (1.35.0)\n",
            "Requirement already satisfied: pyasn1-modules>=0.2.1 in /usr/local/lib/python3.7/dist-packages (from google-auth<3,>=1.6.3->tensorboard>=2.2.0->stable-baselines3[extra]) (0.2.8)\n",
            "Requirement already satisfied: six>=1.9.0 in /usr/local/lib/python3.7/dist-packages (from google-auth<3,>=1.6.3->tensorboard>=2.2.0->stable-baselines3[extra]) (1.15.0)\n",
            "Requirement already satisfied: cachetools<5.0,>=2.0.0 in /usr/local/lib/python3.7/dist-packages (from google-auth<3,>=1.6.3->tensorboard>=2.2.0->stable-baselines3[extra]) (4.2.4)\n",
            "Requirement already satisfied: rsa<5,>=3.1.4 in /usr/local/lib/python3.7/dist-packages (from google-auth<3,>=1.6.3->tensorboard>=2.2.0->stable-baselines3[extra]) (4.8)\n",
            "Requirement already satisfied: requests-oauthlib>=0.7.0 in /usr/local/lib/python3.7/dist-packages (from google-auth-oauthlib<0.5,>=0.4.1->tensorboard>=2.2.0->stable-baselines3[extra]) (1.3.1)\n",
            "Requirement already satisfied: pyasn1<0.5.0,>=0.4.6 in /usr/local/lib/python3.7/dist-packages (from pyasn1-modules>=0.2.1->google-auth<3,>=1.6.3->tensorboard>=2.2.0->stable-baselines3[extra]) (0.4.8)\n",
            "Requirement already satisfied: urllib3!=1.25.0,!=1.25.1,<1.26,>=1.21.1 in /usr/local/lib/python3.7/dist-packages (from requests->autorom[accept-rom-license]~=0.4.2->stable-baselines3[extra]) (1.24.3)\n",
            "Requirement already satisfied: idna<3,>=2.5 in /usr/local/lib/python3.7/dist-packages (from requests->autorom[accept-rom-license]~=0.4.2->stable-baselines3[extra]) (2.10)\n",
            "Requirement already satisfied: certifi>=2017.4.17 in /usr/local/lib/python3.7/dist-packages (from requests->autorom[accept-rom-license]~=0.4.2->stable-baselines3[extra]) (2022.6.15)\n",
            "Requirement already satisfied: chardet<4,>=3.0.2 in /usr/local/lib/python3.7/dist-packages (from requests->autorom[accept-rom-license]~=0.4.2->stable-baselines3[extra]) (3.0.4)\n",
            "Requirement already satisfied: oauthlib>=3.0.0 in /usr/local/lib/python3.7/dist-packages (from requests-oauthlib>=0.7.0->google-auth-oauthlib<0.5,>=0.4.1->tensorboard>=2.2.0->stable-baselines3[extra]) (3.2.0)\n",
            "Requirement already satisfied: cycler>=0.10 in /usr/local/lib/python3.7/dist-packages (from matplotlib->stable-baselines3[extra]) (0.11.0)\n",
            "Requirement already satisfied: python-dateutil>=2.1 in /usr/local/lib/python3.7/dist-packages (from matplotlib->stable-baselines3[extra]) (2.8.2)\n",
            "Requirement already satisfied: pyparsing!=2.0.4,!=2.1.2,!=2.1.6,>=2.0.1 in /usr/local/lib/python3.7/dist-packages (from matplotlib->stable-baselines3[extra]) (3.0.9)\n",
            "Requirement already satisfied: kiwisolver>=1.0.1 in /usr/local/lib/python3.7/dist-packages (from matplotlib->stable-baselines3[extra]) (1.4.3)\n",
            "Requirement already satisfied: pytz>=2017.3 in /usr/local/lib/python3.7/dist-packages (from pandas->stable-baselines3[extra]) (2022.1)\n",
            "Building wheels for collected packages: gym, AutoROM.accept-rom-license\n",
            "  Building wheel for gym (setup.py) ... \u001b[?25l\u001b[?25hdone\n",
            "  Created wheel for gym: filename=gym-0.21.0-py3-none-any.whl size=1616822 sha256=0f34bfd7f3871e88cd7bf2b3fcd88c453c5f6ff3b1e742fbfbe0bd07b6fa18f3\n",
            "  Stored in directory: /root/.cache/pip/wheels/76/ee/9c/36bfe3e079df99acf5ae57f4e3464ff2771b34447d6d2f2148\n",
            "  Building wheel for AutoROM.accept-rom-license (PEP 517) ... \u001b[?25l\u001b[?25hdone\n",
            "  Created wheel for AutoROM.accept-rom-license: filename=AutoROM.accept_rom_license-0.4.2-py3-none-any.whl size=441027 sha256=e057319b6a38338f279f09128cc628013885382bbf53b6ae5e7b4b0349b45f55\n",
            "  Stored in directory: /root/.cache/pip/wheels/87/67/2e/6147e7912fe37f5408b80d07527dab807c1d25f5c403a9538a\n",
            "Successfully built gym AutoROM.accept-rom-license\n",
            "Installing collected packages: gym, AutoROM.accept-rom-license, autorom, stable-baselines3, ale-py\n",
            "  Attempting uninstall: gym\n",
            "    Found existing installation: gym 0.17.3\n",
            "    Uninstalling gym-0.17.3:\n",
            "      Successfully uninstalled gym-0.17.3\n",
            "Successfully installed AutoROM.accept-rom-license-0.4.2 ale-py-0.7.5 autorom-0.4.2 gym-0.21.0 stable-baselines3-1.5.0\n"
          ]
        }
      ]
    },
    {
      "cell_type": "markdown",
      "metadata": {
        "id": "FtY8FhliLsGm"
      },
      "source": [
        "## Imports"
      ]
    },
    {
      "cell_type": "markdown",
      "metadata": {
        "id": "gcX8hEcaUpR0"
      },
      "source": [
        "Stable-Baselines3 works on environments that follow the [gym interface](https://stable-baselines3.readthedocs.io/en/master/guide/custom_env.html).\n",
        "You can find a list of available environment [here](https://gym.openai.com/envs/#classic_control).\n",
        "\n",
        "It is also recommended to check the [source code](https://github.com/openai/gym) to learn more about the observation and action space of each env, as gym does not have a proper documentation.\n",
        "Not all algorithms can work with all action spaces, you can find more in this [recap table](https://stable-baselines3.readthedocs.io/en/master/guide/algos.html)"
      ]
    },
    {
      "cell_type": "code",
      "metadata": {
        "id": "BIedd7Pz9sOs"
      },
      "source": [
        "import gym\n",
        "import numpy as np"
      ],
      "execution_count": 2,
      "outputs": []
    },
    {
      "cell_type": "markdown",
      "metadata": {
        "id": "Ae32CtgzTG3R"
      },
      "source": [
        "The first thing you need to import is the RL model, check the documentation to know what you can use on which problem"
      ]
    },
    {
      "cell_type": "code",
      "metadata": {
        "id": "R7tKaBFrTR0a"
      },
      "source": [
        "from stable_baselines3 import PPO"
      ],
      "execution_count": 3,
      "outputs": []
    },
    {
      "cell_type": "markdown",
      "metadata": {
        "id": "-0_8OQbOTTNT"
      },
      "source": [
        "The next thing you need to import is the policy class that will be used to create the networks (for the policy/value functions).\n",
        "This step is optional as you can directly use strings in the constructor: \n",
        "\n",
        "```PPO('MlpPolicy', env)``` instead of ```PPO(MlpPolicy, env)```\n",
        "\n",
        "Note that some algorithms like `SAC` have their own `MlpPolicy`, that's why using string for the policy is the recommened option."
      ]
    },
    {
      "cell_type": "code",
      "metadata": {
        "id": "ROUJr675TT01"
      },
      "source": [
        "from stable_baselines3.ppo.policies import MlpPolicy"
      ],
      "execution_count": 4,
      "outputs": []
    },
    {
      "cell_type": "markdown",
      "metadata": {
        "id": "RapkYvTXL7Cd"
      },
      "source": [
        "## Create the Gym env and instantiate the agent\n",
        "\n",
        "For this example, we will use CartPole environment, a classic control problem.\n",
        "\n",
        "\"A pole is attached by an un-actuated joint to a cart, which moves along a frictionless track. The system is controlled by applying a force of +1 or -1 to the cart. The pendulum starts upright, and the goal is to prevent it from falling over. A reward of +1 is provided for every timestep that the pole remains upright. \"\n",
        "\n",
        "Cartpole environment: [https://gym.openai.com/envs/CartPole-v1/](https://gym.openai.com/envs/CartPole-v1/)\n",
        "\n",
        "![Cartpole](https://cdn-images-1.medium.com/max/1143/1*h4WTQNVIsvMXJTCpXm_TAw.gif)\n",
        "\n",
        "\n",
        "We chose the MlpPolicy because the observation of the CartPole task is a feature vector, not images.\n",
        "\n",
        "The type of action to use (discrete/continuous) will be automatically deduced from the environment action space\n",
        "\n",
        "Here we are using the [Proximal Policy Optimization](https://stable-baselines3.readthedocs.io/en/master/modules/ppo2.html) algorithm, which is an Actor-Critic method: it uses a value function to improve the policy gradient descent (by reducing the variance).\n",
        "\n",
        "It combines ideas from [A2C](https://stable-baselines3.readthedocs.io/en/master/modules/a2c.html) (having multiple workers and using an entropy bonus for exploration) and [TRPO](https://stable-baselines.readthedocs.io/en/master/modules/trpo.html) (it uses a trust region to improve stability and avoid catastrophic drops in performance).\n",
        "\n",
        "PPO is an on-policy algorithm, which means that the trajectories used to update the networks must be collected using the latest policy.\n",
        "It is usually less sample efficient than off-policy alorithms like [DQN](https://stable-baselines.readthedocs.io/en/master/modules/dqn.html), [SAC](https://stable-baselines3.readthedocs.io/en/master/modules/sac.html) or [TD3](https://stable-baselines3.readthedocs.io/en/master/modules/td3.html), but is much faster regarding wall-clock time.\n"
      ]
    },
    {
      "cell_type": "code",
      "metadata": {
        "id": "pUWGZp3i9wyf"
      },
      "source": [
        "env = gym.make('CartPole-v1')\n",
        "\n",
        "model = PPO(MlpPolicy, env, verbose=0)"
      ],
      "execution_count": 5,
      "outputs": []
    },
    {
      "cell_type": "markdown",
      "metadata": {
        "id": "4efFdrQ7MBvl"
      },
      "source": [
        "We create a helper function to evaluate the agent:"
      ]
    },
    {
      "cell_type": "code",
      "metadata": {
        "id": "63M8mSKR-6Zt"
      },
      "source": [
        "def evaluate(model, num_episodes=100):\n",
        "    \"\"\"\n",
        "    Evaluate a RL agent\n",
        "    :param model: (BaseRLModel object) the RL Agent\n",
        "    :param num_episodes: (int) number of episodes to evaluate it\n",
        "    :return: (float) Mean reward for the last num_episodes\n",
        "    \"\"\"\n",
        "    # This function will only work for a single Environment\n",
        "    env = model.get_env()\n",
        "    all_episode_rewards = []\n",
        "    for i in range(num_episodes):\n",
        "        episode_rewards = []\n",
        "        done = False\n",
        "        obs = env.reset()\n",
        "        while not done:\n",
        "            # _states are only useful when using LSTM policies\n",
        "            action, _states = model.predict(obs)\n",
        "            # here, action, rewards and dones are arrays\n",
        "            # because we are using vectorized env\n",
        "            obs, reward, done, info = env.step(action)\n",
        "            episode_rewards.append(reward)\n",
        "\n",
        "        all_episode_rewards.append(sum(episode_rewards))\n",
        "\n",
        "    mean_episode_reward = np.mean(all_episode_rewards)\n",
        "    print(\"Mean reward:\", mean_episode_reward, \"Num episodes:\", num_episodes)\n",
        "\n",
        "    return mean_episode_reward"
      ],
      "execution_count": 6,
      "outputs": []
    },
    {
      "cell_type": "markdown",
      "metadata": {
        "id": "zjEVOIY8NVeK"
      },
      "source": [
        "Let's evaluate the un-trained agent, this should be a random agent."
      ]
    },
    {
      "cell_type": "code",
      "metadata": {
        "id": "xDHLMA6NFk95",
        "outputId": "0a70bf7f-3ffb-428a-8b46-fb2baaa79bd6",
        "colab": {
          "base_uri": "https://localhost:8080/"
        }
      },
      "source": [
        "# Random Agent, before training\n",
        "mean_reward_before_train = evaluate(model, num_episodes=100)"
      ],
      "execution_count": 7,
      "outputs": [
        {
          "output_type": "stream",
          "name": "stdout",
          "text": [
            "Mean reward: 20.83 Num episodes: 100\n"
          ]
        }
      ]
    },
    {
      "cell_type": "markdown",
      "metadata": {
        "id": "QjjPxrwkYJ2i"
      },
      "source": [
        "Stable-Baselines already provides you with that helper:"
      ]
    },
    {
      "cell_type": "code",
      "metadata": {
        "id": "8z6K9YImYJEx"
      },
      "source": [
        "from stable_baselines3.common.evaluation import evaluate_policy"
      ],
      "execution_count": 8,
      "outputs": []
    },
    {
      "cell_type": "code",
      "metadata": {
        "id": "4oPTHjxyZSOL",
        "colab": {
          "base_uri": "https://localhost:8080/"
        },
        "outputId": "3d65d172-7bfe-47f7-8d68-2e6445656cc9"
      },
      "source": [
        "mean_reward, std_reward = evaluate_policy(model, env, n_eval_episodes=100)\n",
        "\n",
        "print(f\"mean_reward:{mean_reward:.2f} +/- {std_reward:.2f}\")"
      ],
      "execution_count": 9,
      "outputs": [
        {
          "output_type": "stream",
          "name": "stderr",
          "text": [
            "/usr/local/lib/python3.7/dist-packages/stable_baselines3/common/evaluation.py:69: UserWarning: Evaluation environment is not wrapped with a ``Monitor`` wrapper. This may result in reporting modified episode lengths and rewards, if other wrappers happen to modify these. Consider wrapping environment first with ``Monitor`` wrapper.\n",
            "  UserWarning,\n"
          ]
        },
        {
          "output_type": "stream",
          "name": "stdout",
          "text": [
            "mean_reward:91.67 +/- 66.56\n"
          ]
        }
      ]
    },
    {
      "cell_type": "markdown",
      "metadata": {
        "id": "r5UoXTZPNdFE"
      },
      "source": [
        "## Train the agent and evaluate it"
      ]
    },
    {
      "cell_type": "code",
      "metadata": {
        "id": "e4cfSXIB-pTF",
        "colab": {
          "base_uri": "https://localhost:8080/"
        },
        "outputId": "21f2f4e7-0f67-4313-faa1-755cba313eff"
      },
      "source": [
        "# Train the agent for 10000 steps\n",
        "model.learn(total_timesteps=10000)"
      ],
      "execution_count": 10,
      "outputs": [
        {
          "output_type": "execute_result",
          "data": {
            "text/plain": [
              "<stable_baselines3.ppo.ppo.PPO at 0x7fdd91a161d0>"
            ]
          },
          "metadata": {},
          "execution_count": 10
        }
      ]
    },
    {
      "cell_type": "code",
      "metadata": {
        "id": "ygl_gVmV_QP7",
        "colab": {
          "base_uri": "https://localhost:8080/"
        },
        "outputId": "53eacdc8-095a-4a44-b064-4829abeaeb0e"
      },
      "source": [
        "# Evaluate the trained agent\n",
        "mean_reward, std_reward = evaluate_policy(model, env, n_eval_episodes=100)\n",
        "\n",
        "print(f\"mean_reward:{mean_reward:.2f} +/- {std_reward:.2f}\")"
      ],
      "execution_count": 11,
      "outputs": [
        {
          "output_type": "stream",
          "name": "stderr",
          "text": [
            "/usr/local/lib/python3.7/dist-packages/stable_baselines3/common/evaluation.py:69: UserWarning: Evaluation environment is not wrapped with a ``Monitor`` wrapper. This may result in reporting modified episode lengths and rewards, if other wrappers happen to modify these. Consider wrapping environment first with ``Monitor`` wrapper.\n",
            "  UserWarning,\n"
          ]
        },
        {
          "output_type": "stream",
          "name": "stdout",
          "text": [
            "mean_reward:383.64 +/- 119.10\n"
          ]
        }
      ]
    },
    {
      "cell_type": "markdown",
      "metadata": {
        "id": "A00W6yY3NkHG"
      },
      "source": [
        "Apparently the training went well, the mean reward increased a lot ! "
      ]
    },
    {
      "cell_type": "markdown",
      "metadata": {
        "id": "xVm9QPNVwKXN"
      },
      "source": [
        "### Prepare video recording"
      ]
    },
    {
      "cell_type": "code",
      "metadata": {
        "id": "MPyfQxD5z26J"
      },
      "source": [
        "# Set up fake display; otherwise rendering will fail\n",
        "import os\n",
        "os.system(\"Xvfb :1 -screen 0 1024x768x24 &\")\n",
        "os.environ['DISPLAY'] = ':1'"
      ],
      "execution_count": 12,
      "outputs": []
    },
    {
      "cell_type": "code",
      "metadata": {
        "id": "SLzXxO8VMD6N"
      },
      "source": [
        "import base64\n",
        "from pathlib import Path\n",
        "\n",
        "from IPython import display as ipythondisplay\n",
        "\n",
        "def show_videos(video_path='', prefix=''):\n",
        "  \"\"\"\n",
        "  Taken from https://github.com/eleurent/highway-env\n",
        "\n",
        "  :param video_path: (str) Path to the folder containing videos\n",
        "  :param prefix: (str) Filter the video, showing only the only starting with this prefix\n",
        "  \"\"\"\n",
        "  html = []\n",
        "  for mp4 in Path(video_path).glob(\"{}*.mp4\".format(prefix)):\n",
        "      video_b64 = base64.b64encode(mp4.read_bytes())\n",
        "      html.append('''<video alt=\"{}\" autoplay \n",
        "                    loop controls style=\"height: 400px;\">\n",
        "                    <source src=\"data:video/mp4;base64,{}\" type=\"video/mp4\" />\n",
        "                </video>'''.format(mp4, video_b64.decode('ascii')))\n",
        "  ipythondisplay.display(ipythondisplay.HTML(data=\"<br>\".join(html)))"
      ],
      "execution_count": 13,
      "outputs": []
    },
    {
      "cell_type": "markdown",
      "metadata": {
        "id": "LTRNUfulOGaF"
      },
      "source": [
        "We will record a video using the [VecVideoRecorder](https://stable-baselines3.readthedocs.io/en/master/guide/vec_envs.html#vecvideorecorder) wrapper, you will learn about those wrapper in the next notebook."
      ]
    },
    {
      "cell_type": "code",
      "metadata": {
        "id": "Trag9dQpOIhx"
      },
      "source": [
        "from stable_baselines3.common.vec_env import VecVideoRecorder, DummyVecEnv\n",
        "\n",
        "def record_video(env_id, model, video_length=500, prefix='', video_folder='videos/'):\n",
        "  \"\"\"\n",
        "  :param env_id: (str)\n",
        "  :param model: (RL model)\n",
        "  :param video_length: (int)\n",
        "  :param prefix: (str)\n",
        "  :param video_folder: (str)\n",
        "  \"\"\"\n",
        "  eval_env = DummyVecEnv([lambda: gym.make(env_id)])\n",
        "  # Start the video at step=0 and record 500 steps\n",
        "  eval_env = VecVideoRecorder(eval_env, video_folder=video_folder,\n",
        "                              record_video_trigger=lambda step: step == 0, video_length=video_length,\n",
        "                              name_prefix=prefix)\n",
        "\n",
        "  obs = eval_env.reset()\n",
        "  for _ in range(video_length):\n",
        "    action, _ = model.predict(obs)\n",
        "    obs, _, _, _ = eval_env.step(action)\n",
        "\n",
        "  # Close the video recorder\n",
        "  eval_env.close()"
      ],
      "execution_count": 14,
      "outputs": []
    },
    {
      "cell_type": "markdown",
      "metadata": {
        "id": "KOObbeu5MMlR"
      },
      "source": [
        "### Visualize trained agent\n",
        "\n"
      ]
    },
    {
      "cell_type": "code",
      "metadata": {
        "id": "iATu7AiyMQW2",
        "outputId": "48243692-d2d0-4c0a-9a3d-63a0c54837ff",
        "colab": {
          "base_uri": "https://localhost:8080/"
        }
      },
      "source": [
        "record_video('CartPole-v1', model, video_length=500, prefix='ppo2-cartpole')"
      ],
      "execution_count": 15,
      "outputs": [
        {
          "output_type": "stream",
          "name": "stdout",
          "text": [
            "Saving video to /content/videos/ppo2-cartpole-step-0-to-step-500.mp4\n"
          ]
        }
      ]
    },
    {
      "cell_type": "code",
      "metadata": {
        "id": "-n4i-fW3NojZ",
        "colab": {
          "base_uri": "https://localhost:8080/",
          "height": 421
        },
        "outputId": "56250939-d531-4468-8363-13b4d0130de3"
      },
      "source": [
        "show_videos('videos', prefix='ppo2')"
      ],
      "execution_count": 16,
      "outputs": [
        {
          "output_type": "display_data",
          "data": {
            "text/plain": [
              "<IPython.core.display.HTML object>"
            ],
            "text/html": [
              "<video alt=\"videos/ppo2-cartpole-step-0-to-step-500.mp4\" autoplay \n",
              "                    loop controls style=\"height: 400px;\">\n",
              "                    <source src=\"data:video/mp4;base64,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\" type=\"video/mp4\" />\n",
              "                </video>"
            ]
          },
          "metadata": {}
        }
      ]
    },
    {
      "cell_type": "markdown",
      "metadata": {
        "id": "9Y8zg4V566qD"
      },
      "source": [
        "## Bonus: Train a RL Model in One Line\n",
        "\n",
        "The policy class to use will be inferred and the environment will be automatically created. This works because both are [registered](https://stable-baselines3.readthedocs.io/en/master/guide/quickstart.html)."
      ]
    },
    {
      "cell_type": "code",
      "metadata": {
        "id": "iaOPfOrwWEP4",
        "colab": {
          "base_uri": "https://localhost:8080/"
        },
        "outputId": "64fcbdc5-8c28-4cdf-cc03-4d7a03b93f15"
      },
      "source": [
        "model = PPO('MlpPolicy', \"CartPole-v1\", verbose=1).learn(1000)"
      ],
      "execution_count": 17,
      "outputs": [
        {
          "output_type": "stream",
          "name": "stdout",
          "text": [
            "Using cuda device\n",
            "Creating environment from the given name 'CartPole-v1'\n",
            "Wrapping the env with a `Monitor` wrapper\n",
            "Wrapping the env in a DummyVecEnv.\n",
            "---------------------------------\n",
            "| rollout/           |          |\n",
            "|    ep_len_mean     | 22.6     |\n",
            "|    ep_rew_mean     | 22.6     |\n",
            "| time/              |          |\n",
            "|    fps             | 955      |\n",
            "|    iterations      | 1        |\n",
            "|    time_elapsed    | 2        |\n",
            "|    total_timesteps | 2048     |\n",
            "---------------------------------\n"
          ]
        }
      ]
    },
    {
      "cell_type": "markdown",
      "metadata": {
        "id": "FrI6f5fWnzp-"
      },
      "source": [
        "## Conclusion\n",
        "\n",
        "In this notebook we have seen:\n",
        "- how to define and train a RL model using stable baselines3, it takes only one line of code ;)"
      ]
    },
    {
      "cell_type": "code",
      "metadata": {
        "id": "73ji3gbNDkf7"
      },
      "source": [
        ""
      ],
      "execution_count": null,
      "outputs": []
    }
  ]
}