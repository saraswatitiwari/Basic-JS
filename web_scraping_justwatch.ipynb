{
  "nbformat": 4,
  "nbformat_minor": 0,
  "metadata": {
    "colab": {
      "provenance": [],
      "authorship_tag": "ABX9TyPAi1W7eby/TbKoytDZd1tp",
      "include_colab_link": true
    },
    "kernelspec": {
      "name": "python3",
      "display_name": "Python 3"
    },
    "language_info": {
      "name": "python"
    }
  },
  "cells": [
    {
      "cell_type": "markdown",
      "metadata": {
        "id": "view-in-github",
        "colab_type": "text"
      },
      "source": [
        "<a href=\"https://colab.research.google.com/github/saraswatitiwari/Basic-JS/blob/master/web_scraping_justwatch.ipynb\" target=\"_parent\"><img src=\"https://colab.research.google.com/assets/colab-badge.svg\" alt=\"Open In Colab\"/></a>"
      ]
    },
    {
      "cell_type": "markdown",
      "source": [
        "# **Web Scraping & Data Handling Challenge**"
      ],
      "metadata": {
        "id": "0xO522h9WB-Z"
      }
    },
    {
      "cell_type": "markdown",
      "source": [
        "### **Website:**\n",
        "JustWatch -  https://www.justwatch.com/in/movies?release_year_from=2000\n",
        "\n",
        "\n",
        "### **Description:**\n",
        "\n",
        "JustWatch is a popular platform that allows users to search for movies and TV shows across multiple streaming services like Netflix, Amazon Prime, Hulu, etc. For this assignment, you will be required to scrape movie and TV show data from JustWatch using Selenium, Python, and BeautifulSoup. Extract data from HTML, not by directly calling their APIs. Then, perform data filtering and analysis using Pandas, and finally, save the results to a CSV file.\n",
        "\n",
        "### **Tasks:**\n",
        "\n",
        "**1. Web Scraping:**\n",
        "\n",
        "Use BeautifulSoup to scrape the following data from JustWatch:\n",
        "\n",
        "   **a. Movie Information:**\n",
        "\n",
        "      - Movie title\n",
        "      - Release year\n",
        "      - Genre\n",
        "      - IMDb rating\n",
        "      - Streaming services available (Netflix, Amazon Prime, Hulu, etc.)\n",
        "      - URL to the movie page on JustWatch\n",
        "\n",
        "   **b. TV Show Information:**\n",
        "\n",
        "      - TV show title\n",
        "      - Release year\n",
        "      - Genre\n",
        "      - IMDb rating\n",
        "      - Streaming services available (Netflix, Amazon Prime, Hulu, etc.)\n",
        "      - URL to the TV show page on JustWatch\n",
        "\n",
        "  **c. Scope:**\n",
        "\n",
        "```\n",
        " ` - Scrape data for at least 50 movies and 50 TV shows.\n",
        "   - You can choose the entry point (e.g., starting with popular movies,\n",
        "     or a specific genre, etc.) to ensure a diverse dataset.`\n",
        "\n",
        "```\n",
        "\n",
        "\n",
        "**2. Data Filtering & Analysis:**\n",
        "\n",
        "   After scraping the data, use Pandas to perform the following tasks:\n",
        "\n",
        "   **a. Filter movies and TV shows based on specific criteria:**\n",
        "\n",
        "   ```\n",
        "      - Only include movies and TV shows released in the last 2 years (from the current date).\n",
        "      - Only include movies and TV shows with an IMDb rating of 7 or higher.\n",
        "```\n",
        "\n",
        "   **b. Data Analysis:**\n",
        "\n",
        "   ```\n",
        "      - Calculate the average IMDb rating for the scraped movies and TV shows.\n",
        "      - Identify the top 5 genres that have the highest number of available movies and TV shows.\n",
        "      - Determine the streaming service with the most significant number of offerings.\n",
        "      \n",
        "   ```   \n",
        "\n",
        "**3. Data Export:**\n",
        "\n",
        "```\n",
        "   - Dump the filtered and analysed data into a CSV file for further processing and reporting.\n",
        "\n",
        "   - Keep the CSV file in your Drive Folder and Share the Drive link on the colab while keeping view access with anyone.\n",
        "```\n",
        "\n",
        "**Submission:**\n",
        "```\n",
        "- Submit a link to your Colab made for the assignment.\n",
        "\n",
        "- The Colab should contain your Python script (.py format only) with clear\n",
        "  comments explaining the scraping, filtering, and analysis process.\n",
        "\n",
        "- Your Code shouldn't have any errors and should be executable at a one go.\n",
        "\n",
        "- Before Conclusion, Keep your Dataset Drive Link in the Notebook.\n",
        "```\n",
        "\n",
        "\n",
        "\n",
        "**Note:**\n",
        "\n",
        "1. Properly handle errors and exceptions during web scraping to ensure a robust script.\n",
        "\n",
        "2. Make sure your code is well-structured, easy to understand, and follows Python best practices.\n",
        "\n",
        "3. The assignment will be evaluated based on the correctness of the scraped data, accuracy of data filtering and analysis, and the overall quality of the Python code.\n",
        "\n",
        "\n",
        "\n",
        "\n",
        "\n",
        "\n"
      ],
      "metadata": {
        "id": "grSMViXsWPXU"
      }
    },
    {
      "cell_type": "markdown",
      "source": [
        "# **Start The Project**"
      ],
      "metadata": {
        "id": "orgZc-GCWWQD"
      }
    },
    {
      "cell_type": "markdown",
      "source": [
        "## **Task 1:- Web Scrapping**"
      ],
      "metadata": {
        "id": "T1YlyVWXWfV1"
      }
    },
    {
      "cell_type": "code",
      "execution_count": null,
      "metadata": {
        "colab": {
          "base_uri": "https://localhost:8080/"
        },
        "id": "dzjJaedEV8EZ",
        "outputId": "53a23e28-51b0-4a5c-b6b4-a5de75633beb"
      },
      "outputs": [
        {
          "output_type": "stream",
          "name": "stdout",
          "text": [
            "Requirement already satisfied: bs4 in /usr/local/lib/python3.10/dist-packages (0.0.2)\n",
            "Requirement already satisfied: beautifulsoup4 in /usr/local/lib/python3.10/dist-packages (from bs4) (4.12.3)\n",
            "Requirement already satisfied: soupsieve>1.2 in /usr/local/lib/python3.10/dist-packages (from beautifulsoup4->bs4) (2.5)\n",
            "Requirement already satisfied: requests in /usr/local/lib/python3.10/dist-packages (2.31.0)\n",
            "Requirement already satisfied: charset-normalizer<4,>=2 in /usr/local/lib/python3.10/dist-packages (from requests) (3.3.2)\n",
            "Requirement already satisfied: idna<4,>=2.5 in /usr/local/lib/python3.10/dist-packages (from requests) (3.6)\n",
            "Requirement already satisfied: urllib3<3,>=1.21.1 in /usr/local/lib/python3.10/dist-packages (from requests) (2.0.7)\n",
            "Requirement already satisfied: certifi>=2017.4.17 in /usr/local/lib/python3.10/dist-packages (from requests) (2024.2.2)\n"
          ]
        }
      ],
      "source": [
        "#Installing all necessary labraries\n",
        "!pip install bs4\n",
        "!pip install requests"
      ]
    },
    {
      "cell_type": "code",
      "source": [
        "#import all necessary labraries\n",
        "import requests\n",
        "from bs4 import BeautifulSoup\n",
        "import re\n",
        "import pandas as pd\n",
        "import numpy as np"
      ],
      "metadata": {
        "id": "2Ai3-G6yWtIf"
      },
      "execution_count": null,
      "outputs": []
    },
    {
      "cell_type": "markdown",
      "source": [
        "## **Scrapping Movies Data**"
      ],
      "metadata": {
        "id": "-P2-l_BRWy85"
      }
    },
    {
      "cell_type": "code",
      "source": [
        "# Set up for running selenium in Google Colab\n",
        "%%shell\n",
        "sudo apt -y update\n",
        "sudo apt install -y wget curl unzip\n",
        "wget http://archive.ubuntu.com/ubuntu/pool/main/libu/libu2f-host/libu2f-udev_1.1.4-1_all.deb\n",
        "dpkg -i libu2f-udev_1.1.4-1_all.deb\n",
        "wget https://dl.google.com/linux/direct/google-chrome-stable_current_amd64.deb\n",
        "dpkg -i google-chrome-stable_current_amd64.deb\n",
        "CHROME_DRIVER_VERSION=`curl -sS chromedriver.storage.googleapis.com/LATEST_RELEASE`\n",
        "wget -N https://chromedriver.storage.googleapis.com/$CHROME_DRIVER_VERSION/chromedriver_linux64.zip -P /tmp/\n",
        "unzip -o /tmp/chromedriver_linux64.zip -d /tmp/\n",
        "chmod +x /tmp/chromedriver\n",
        "mv /tmp/chromedriver /usr/local/bin/chromedriver\n",
        "pip install selenium"
      ],
      "metadata": {
        "colab": {
          "base_uri": "https://localhost:8080/"
        },
        "id": "APDEf7maWyg5",
        "outputId": "a80b11da-ceae-4a4a-984f-6f79ce33232a"
      },
      "execution_count": null,
      "outputs": [
        {
          "output_type": "stream",
          "name": "stdout",
          "text": [
            "\u001b[33m\r0% [Working]\u001b[0m\r            \rHit:1 https://cloud.r-project.org/bin/linux/ubuntu jammy-cran40/ InRelease\n",
            "\u001b[33m\r0% [Waiting for headers] [Waiting for headers] [Connecting to ppa.launchpadcont\u001b[0m\r                                                                               \rHit:2 https://developer.download.nvidia.com/compute/cuda/repos/ubuntu2204/x86_64  InRelease\n",
            "\u001b[33m\r0% [Waiting for headers] [Waiting for headers] [Connecting to ppa.launchpadcont\u001b[0m\r                                                                               \rGet:3 http://security.ubuntu.com/ubuntu jammy-security InRelease [110 kB]\n",
            "\u001b[33m\r0% [Waiting for headers] [3 InRelease 14.2 kB/110 kB 13%] [Connecting to ppa.la\u001b[0m\r                                                                               \rHit:4 http://archive.ubuntu.com/ubuntu jammy InRelease\n",
            "Get:5 http://archive.ubuntu.com/ubuntu jammy-updates InRelease [119 kB]\n",
            "Hit:6 http://archive.ubuntu.com/ubuntu jammy-backports InRelease\n",
            "Hit:7 https://ppa.launchpadcontent.net/c2d4u.team/c2d4u4.0+/ubuntu jammy InRelease\n",
            "Hit:8 https://ppa.launchpadcontent.net/deadsnakes/ppa/ubuntu jammy InRelease\n",
            "Hit:9 https://ppa.launchpadcontent.net/graphics-drivers/ppa/ubuntu jammy InRelease\n",
            "Hit:10 https://ppa.launchpadcontent.net/ubuntugis/ppa/ubuntu jammy InRelease\n",
            "Fetched 229 kB in 2s (129 kB/s)\n",
            "Reading package lists... Done\n",
            "Building dependency tree... Done\n",
            "Reading state information... Done\n",
            "46 packages can be upgraded. Run 'apt list --upgradable' to see them.\n",
            "Reading package lists... Done\n",
            "Building dependency tree... Done\n",
            "Reading state information... Done\n",
            "wget is already the newest version (1.21.2-2ubuntu1).\n",
            "curl is already the newest version (7.81.0-1ubuntu1.16).\n",
            "unzip is already the newest version (6.0-26ubuntu3.2).\n",
            "You might want to run 'apt --fix-broken install' to correct these.\n",
            "The following packages have unmet dependencies:\n",
            " google-chrome-stable : Depends: libvulkan1 but it is not going to be installed\n",
            "\u001b[1;31mE: \u001b[0mUnmet dependencies. Try 'apt --fix-broken install' with no packages (or specify a solution).\u001b[0m\n",
            "--2024-04-06 12:42:44--  http://archive.ubuntu.com/ubuntu/pool/main/libu/libu2f-host/libu2f-udev_1.1.4-1_all.deb\n",
            "Resolving archive.ubuntu.com (archive.ubuntu.com)... 185.125.190.36, 91.189.91.82, 91.189.91.83, ...\n",
            "Connecting to archive.ubuntu.com (archive.ubuntu.com)|185.125.190.36|:80... connected.\n",
            "HTTP request sent, awaiting response... 200 OK\n",
            "Length: 3708 (3.6K) [application/x-debian-package]\n",
            "Saving to: ‘libu2f-udev_1.1.4-1_all.deb.1’\n",
            "\n",
            "libu2f-udev_1.1.4-1 100%[===================>]   3.62K  --.-KB/s    in 0s      \n",
            "\n",
            "2024-04-06 12:42:44 (488 MB/s) - ‘libu2f-udev_1.1.4-1_all.deb.1’ saved [3708/3708]\n",
            "\n",
            "(Reading database ... 121871 files and directories currently installed.)\n",
            "Preparing to unpack libu2f-udev_1.1.4-1_all.deb ...\n",
            "Unpacking libu2f-udev (1.1.4-1) over (1.1.4-1) ...\n",
            "Setting up libu2f-udev (1.1.4-1) ...\n",
            "--2024-04-06 12:42:44--  https://dl.google.com/linux/direct/google-chrome-stable_current_amd64.deb\n",
            "Resolving dl.google.com (dl.google.com)... 74.125.142.91, 74.125.142.190, 74.125.142.93, ...\n",
            "Connecting to dl.google.com (dl.google.com)|74.125.142.91|:443... connected.\n",
            "HTTP request sent, awaiting response... 200 OK\n",
            "Length: 107229972 (102M) [application/x-debian-package]\n",
            "Saving to: ‘google-chrome-stable_current_amd64.deb.1’\n",
            "\n",
            "google-chrome-stabl 100%[===================>] 102.26M   264MB/s    in 0.4s    \n",
            "\n",
            "2024-04-06 12:42:45 (264 MB/s) - ‘google-chrome-stable_current_amd64.deb.1’ saved [107229972/107229972]\n",
            "\n",
            "(Reading database ... 121871 files and directories currently installed.)\n",
            "Preparing to unpack google-chrome-stable_current_amd64.deb ...\n",
            "Unpacking google-chrome-stable (123.0.6312.105-1) over (123.0.6312.105-1) ...\n",
            "\u001b[1mdpkg:\u001b[0m dependency problems prevent configuration of google-chrome-stable:\n",
            " google-chrome-stable depends on libvulkan1; however:\n",
            "  Package libvulkan1 is not installed.\n",
            "\n",
            "\u001b[1mdpkg:\u001b[0m error processing package google-chrome-stable (--install):\n",
            " dependency problems - leaving unconfigured\n",
            "Processing triggers for man-db (2.10.2-1) ...\n",
            "Errors were encountered while processing:\n",
            " google-chrome-stable\n",
            "--2024-04-06 12:43:06--  https://chromedriver.storage.googleapis.com/114.0.5735.90/chromedriver_linux64.zip\n",
            "Resolving chromedriver.storage.googleapis.com (chromedriver.storage.googleapis.com)... 74.125.142.207, 74.125.195.207, 172.253.117.207, ...\n",
            "Connecting to chromedriver.storage.googleapis.com (chromedriver.storage.googleapis.com)|74.125.142.207|:443... connected.\n",
            "HTTP request sent, awaiting response... 304 Not Modified\n",
            "File ‘/tmp/chromedriver_linux64.zip’ not modified on server. Omitting download.\n",
            "\n",
            "Archive:  /tmp/chromedriver_linux64.zip\n",
            "  inflating: /tmp/chromedriver       \n",
            "  inflating: /tmp/LICENSE.chromedriver  \n",
            "Requirement already satisfied: selenium in /usr/local/lib/python3.10/dist-packages (4.19.0)\n",
            "Requirement already satisfied: urllib3[socks]<3,>=1.26 in /usr/local/lib/python3.10/dist-packages (from selenium) (2.0.7)\n",
            "Requirement already satisfied: trio~=0.17 in /usr/local/lib/python3.10/dist-packages (from selenium) (0.25.0)\n",
            "Requirement already satisfied: trio-websocket~=0.9 in /usr/local/lib/python3.10/dist-packages (from selenium) (0.11.1)\n",
            "Requirement already satisfied: certifi>=2021.10.8 in /usr/local/lib/python3.10/dist-packages (from selenium) (2024.2.2)\n",
            "Requirement already satisfied: typing_extensions>=4.9.0 in /usr/local/lib/python3.10/dist-packages (from selenium) (4.10.0)\n",
            "Requirement already satisfied: attrs>=23.2.0 in /usr/local/lib/python3.10/dist-packages (from trio~=0.17->selenium) (23.2.0)\n",
            "Requirement already satisfied: sortedcontainers in /usr/local/lib/python3.10/dist-packages (from trio~=0.17->selenium) (2.4.0)\n",
            "Requirement already satisfied: idna in /usr/local/lib/python3.10/dist-packages (from trio~=0.17->selenium) (3.6)\n",
            "Requirement already satisfied: outcome in /usr/local/lib/python3.10/dist-packages (from trio~=0.17->selenium) (1.3.0.post0)\n",
            "Requirement already satisfied: sniffio>=1.3.0 in /usr/local/lib/python3.10/dist-packages (from trio~=0.17->selenium) (1.3.1)\n",
            "Requirement already satisfied: exceptiongroup in /usr/local/lib/python3.10/dist-packages (from trio~=0.17->selenium) (1.2.0)\n",
            "Requirement already satisfied: wsproto>=0.14 in /usr/local/lib/python3.10/dist-packages (from trio-websocket~=0.9->selenium) (1.2.0)\n",
            "Requirement already satisfied: pysocks!=1.5.7,<2.0,>=1.5.6 in /usr/local/lib/python3.10/dist-packages (from urllib3[socks]<3,>=1.26->selenium) (1.7.1)\n",
            "Requirement already satisfied: h11<1,>=0.9.0 in /usr/local/lib/python3.10/dist-packages (from wsproto>=0.14->trio-websocket~=0.9->selenium) (0.14.0)\n"
          ]
        },
        {
          "output_type": "execute_result",
          "data": {
            "text/plain": []
          },
          "metadata": {},
          "execution_count": 32
        }
      ]
    },
    {
      "cell_type": "code",
      "source": [
        "!pip install chromedriver-autoinstaller\n",
        "\n",
        "import sys\n",
        "sys.path.insert(0,'/usr/lib/chromium-browser/chromedriver')\n",
        "\n",
        "import time\n",
        "import pandas as pd\n",
        "from bs4 import BeautifulSoup\n",
        "from selenium import webdriver\n",
        "import chromedriver_autoinstaller\n",
        "\n",
        "# setup chrome options\n",
        "chrome_options = webdriver.ChromeOptions()\n",
        "chrome_options.add_argument('--headless') # ensure GUI is off\n",
        "chrome_options.add_argument('--no-sandbox')\n",
        "chrome_options.add_argument('--disable-dev-shm-usage')\n",
        "\n",
        "# set path to chromedriver as per your configuration\n",
        "chromedriver_autoinstaller.install()"
      ],
      "metadata": {
        "colab": {
          "base_uri": "https://localhost:8080/",
          "height": 90
        },
        "id": "6IJPq3EYXJyZ",
        "outputId": "73ad2d2c-04cd-44b3-c3e3-59d537c05a1e"
      },
      "execution_count": null,
      "outputs": [
        {
          "output_type": "stream",
          "name": "stdout",
          "text": [
            "Requirement already satisfied: chromedriver-autoinstaller in /usr/local/lib/python3.10/dist-packages (0.6.4)\n",
            "Requirement already satisfied: packaging>=23.1 in /usr/local/lib/python3.10/dist-packages (from chromedriver-autoinstaller) (24.0)\n"
          ]
        },
        {
          "output_type": "execute_result",
          "data": {
            "text/plain": [
              "'/usr/local/lib/python3.10/dist-packages/chromedriver_autoinstaller/123/chromedriver'"
            ],
            "application/vnd.google.colaboratory.intrinsic+json": {
              "type": "string"
            }
          },
          "metadata": {},
          "execution_count": 33
        }
      ]
    },
    {
      "cell_type": "code",
      "source": [
        "# set the target URL\n",
        "url = 'https://www.justwatch.com/in/movies?release_year_from=2000'\n",
        "\n",
        "# set up the webdriver\n",
        "driver = webdriver.Chrome(options=chrome_options)"
      ],
      "metadata": {
        "id": "lxHlLLb8XTDn"
      },
      "execution_count": null,
      "outputs": []
    },
    {
      "cell_type": "code",
      "source": [
        "driver.get(url )"
      ],
      "metadata": {
        "id": "jIFLL36CXV4K"
      },
      "execution_count": null,
      "outputs": []
    },
    {
      "cell_type": "code",
      "source": [
        "driver"
      ],
      "metadata": {
        "colab": {
          "base_uri": "https://localhost:8080/"
        },
        "id": "FRqC-0jRXa5V",
        "outputId": "d604c9ae-b8f2-430f-988b-89cba5a046fd"
      },
      "execution_count": null,
      "outputs": [
        {
          "output_type": "execute_result",
          "data": {
            "text/plain": [
              "<selenium.webdriver.chrome.webdriver.WebDriver (session=\"4f45e81640dc7b6285625b562c439176\")>"
            ]
          },
          "metadata": {},
          "execution_count": 36
        }
      ]
    },
    {
      "cell_type": "code",
      "source": [
        "from selenium.webdriver.support.ui import WebDriverWait\n",
        "from selenium.webdriver.support import expected_conditions as EC\n",
        "from selenium.webdriver.common.by import By"
      ],
      "metadata": {
        "id": "O5ple5qQXg5Q"
      },
      "execution_count": null,
      "outputs": []
    },
    {
      "cell_type": "code",
      "source": [
        "title_list = driver.find_elements(By.XPATH,\"//a[@class='title-list-grid__item--link']\")\n",
        "title_list"
      ],
      "metadata": {
        "colab": {
          "base_uri": "https://localhost:8080/"
        },
        "id": "pnW5RADbXjNp",
        "outputId": "b89f0e57-d9a7-4f89-9617-8509e2f65170"
      },
      "execution_count": null,
      "outputs": [
        {
          "output_type": "execute_result",
          "data": {
            "text/plain": [
              "[<selenium.webdriver.remote.webelement.WebElement (session=\"4f45e81640dc7b6285625b562c439176\", element=\"f.6B25A0906C3A84CCFC3B0BFF991B5859.d.CDB33A07129696021F4E1994713DDAA5.e.18\")>,\n",
              " <selenium.webdriver.remote.webelement.WebElement (session=\"4f45e81640dc7b6285625b562c439176\", element=\"f.6B25A0906C3A84CCFC3B0BFF991B5859.d.CDB33A07129696021F4E1994713DDAA5.e.19\")>,\n",
              " <selenium.webdriver.remote.webelement.WebElement (session=\"4f45e81640dc7b6285625b562c439176\", element=\"f.6B25A0906C3A84CCFC3B0BFF991B5859.d.CDB33A07129696021F4E1994713DDAA5.e.20\")>,\n",
              " <selenium.webdriver.remote.webelement.WebElement (session=\"4f45e81640dc7b6285625b562c439176\", element=\"f.6B25A0906C3A84CCFC3B0BFF991B5859.d.CDB33A07129696021F4E1994713DDAA5.e.21\")>,\n",
              " <selenium.webdriver.remote.webelement.WebElement (session=\"4f45e81640dc7b6285625b562c439176\", element=\"f.6B25A0906C3A84CCFC3B0BFF991B5859.d.CDB33A07129696021F4E1994713DDAA5.e.22\")>,\n",
              " <selenium.webdriver.remote.webelement.WebElement (session=\"4f45e81640dc7b6285625b562c439176\", element=\"f.6B25A0906C3A84CCFC3B0BFF991B5859.d.CDB33A07129696021F4E1994713DDAA5.e.23\")>,\n",
              " <selenium.webdriver.remote.webelement.WebElement (session=\"4f45e81640dc7b6285625b562c439176\", element=\"f.6B25A0906C3A84CCFC3B0BFF991B5859.d.CDB33A07129696021F4E1994713DDAA5.e.24\")>,\n",
              " <selenium.webdriver.remote.webelement.WebElement (session=\"4f45e81640dc7b6285625b562c439176\", element=\"f.6B25A0906C3A84CCFC3B0BFF991B5859.d.CDB33A07129696021F4E1994713DDAA5.e.25\")>,\n",
              " <selenium.webdriver.remote.webelement.WebElement (session=\"4f45e81640dc7b6285625b562c439176\", element=\"f.6B25A0906C3A84CCFC3B0BFF991B5859.d.CDB33A07129696021F4E1994713DDAA5.e.26\")>,\n",
              " <selenium.webdriver.remote.webelement.WebElement (session=\"4f45e81640dc7b6285625b562c439176\", element=\"f.6B25A0906C3A84CCFC3B0BFF991B5859.d.CDB33A07129696021F4E1994713DDAA5.e.27\")>,\n",
              " <selenium.webdriver.remote.webelement.WebElement (session=\"4f45e81640dc7b6285625b562c439176\", element=\"f.6B25A0906C3A84CCFC3B0BFF991B5859.d.CDB33A07129696021F4E1994713DDAA5.e.28\")>,\n",
              " <selenium.webdriver.remote.webelement.WebElement (session=\"4f45e81640dc7b6285625b562c439176\", element=\"f.6B25A0906C3A84CCFC3B0BFF991B5859.d.CDB33A07129696021F4E1994713DDAA5.e.29\")>,\n",
              " <selenium.webdriver.remote.webelement.WebElement (session=\"4f45e81640dc7b6285625b562c439176\", element=\"f.6B25A0906C3A84CCFC3B0BFF991B5859.d.CDB33A07129696021F4E1994713DDAA5.e.30\")>,\n",
              " <selenium.webdriver.remote.webelement.WebElement (session=\"4f45e81640dc7b6285625b562c439176\", element=\"f.6B25A0906C3A84CCFC3B0BFF991B5859.d.CDB33A07129696021F4E1994713DDAA5.e.31\")>,\n",
              " <selenium.webdriver.remote.webelement.WebElement (session=\"4f45e81640dc7b6285625b562c439176\", element=\"f.6B25A0906C3A84CCFC3B0BFF991B5859.d.CDB33A07129696021F4E1994713DDAA5.e.32\")>,\n",
              " <selenium.webdriver.remote.webelement.WebElement (session=\"4f45e81640dc7b6285625b562c439176\", element=\"f.6B25A0906C3A84CCFC3B0BFF991B5859.d.CDB33A07129696021F4E1994713DDAA5.e.33\")>,\n",
              " <selenium.webdriver.remote.webelement.WebElement (session=\"4f45e81640dc7b6285625b562c439176\", element=\"f.6B25A0906C3A84CCFC3B0BFF991B5859.d.CDB33A07129696021F4E1994713DDAA5.e.34\")>,\n",
              " <selenium.webdriver.remote.webelement.WebElement (session=\"4f45e81640dc7b6285625b562c439176\", element=\"f.6B25A0906C3A84CCFC3B0BFF991B5859.d.CDB33A07129696021F4E1994713DDAA5.e.35\")>,\n",
              " <selenium.webdriver.remote.webelement.WebElement (session=\"4f45e81640dc7b6285625b562c439176\", element=\"f.6B25A0906C3A84CCFC3B0BFF991B5859.d.CDB33A07129696021F4E1994713DDAA5.e.36\")>,\n",
              " <selenium.webdriver.remote.webelement.WebElement (session=\"4f45e81640dc7b6285625b562c439176\", element=\"f.6B25A0906C3A84CCFC3B0BFF991B5859.d.CDB33A07129696021F4E1994713DDAA5.e.37\")>,\n",
              " <selenium.webdriver.remote.webelement.WebElement (session=\"4f45e81640dc7b6285625b562c439176\", element=\"f.6B25A0906C3A84CCFC3B0BFF991B5859.d.CDB33A07129696021F4E1994713DDAA5.e.38\")>,\n",
              " <selenium.webdriver.remote.webelement.WebElement (session=\"4f45e81640dc7b6285625b562c439176\", element=\"f.6B25A0906C3A84CCFC3B0BFF991B5859.d.CDB33A07129696021F4E1994713DDAA5.e.39\")>,\n",
              " <selenium.webdriver.remote.webelement.WebElement (session=\"4f45e81640dc7b6285625b562c439176\", element=\"f.6B25A0906C3A84CCFC3B0BFF991B5859.d.CDB33A07129696021F4E1994713DDAA5.e.40\")>,\n",
              " <selenium.webdriver.remote.webelement.WebElement (session=\"4f45e81640dc7b6285625b562c439176\", element=\"f.6B25A0906C3A84CCFC3B0BFF991B5859.d.CDB33A07129696021F4E1994713DDAA5.e.41\")>,\n",
              " <selenium.webdriver.remote.webelement.WebElement (session=\"4f45e81640dc7b6285625b562c439176\", element=\"f.6B25A0906C3A84CCFC3B0BFF991B5859.d.CDB33A07129696021F4E1994713DDAA5.e.42\")>,\n",
              " <selenium.webdriver.remote.webelement.WebElement (session=\"4f45e81640dc7b6285625b562c439176\", element=\"f.6B25A0906C3A84CCFC3B0BFF991B5859.d.CDB33A07129696021F4E1994713DDAA5.e.43\")>,\n",
              " <selenium.webdriver.remote.webelement.WebElement (session=\"4f45e81640dc7b6285625b562c439176\", element=\"f.6B25A0906C3A84CCFC3B0BFF991B5859.d.CDB33A07129696021F4E1994713DDAA5.e.44\")>,\n",
              " <selenium.webdriver.remote.webelement.WebElement (session=\"4f45e81640dc7b6285625b562c439176\", element=\"f.6B25A0906C3A84CCFC3B0BFF991B5859.d.CDB33A07129696021F4E1994713DDAA5.e.45\")>,\n",
              " <selenium.webdriver.remote.webelement.WebElement (session=\"4f45e81640dc7b6285625b562c439176\", element=\"f.6B25A0906C3A84CCFC3B0BFF991B5859.d.CDB33A07129696021F4E1994713DDAA5.e.46\")>,\n",
              " <selenium.webdriver.remote.webelement.WebElement (session=\"4f45e81640dc7b6285625b562c439176\", element=\"f.6B25A0906C3A84CCFC3B0BFF991B5859.d.CDB33A07129696021F4E1994713DDAA5.e.47\")>,\n",
              " <selenium.webdriver.remote.webelement.WebElement (session=\"4f45e81640dc7b6285625b562c439176\", element=\"f.6B25A0906C3A84CCFC3B0BFF991B5859.d.CDB33A07129696021F4E1994713DDAA5.e.48\")>,\n",
              " <selenium.webdriver.remote.webelement.WebElement (session=\"4f45e81640dc7b6285625b562c439176\", element=\"f.6B25A0906C3A84CCFC3B0BFF991B5859.d.CDB33A07129696021F4E1994713DDAA5.e.49\")>,\n",
              " <selenium.webdriver.remote.webelement.WebElement (session=\"4f45e81640dc7b6285625b562c439176\", element=\"f.6B25A0906C3A84CCFC3B0BFF991B5859.d.CDB33A07129696021F4E1994713DDAA5.e.50\")>,\n",
              " <selenium.webdriver.remote.webelement.WebElement (session=\"4f45e81640dc7b6285625b562c439176\", element=\"f.6B25A0906C3A84CCFC3B0BFF991B5859.d.CDB33A07129696021F4E1994713DDAA5.e.51\")>,\n",
              " <selenium.webdriver.remote.webelement.WebElement (session=\"4f45e81640dc7b6285625b562c439176\", element=\"f.6B25A0906C3A84CCFC3B0BFF991B5859.d.CDB33A07129696021F4E1994713DDAA5.e.52\")>,\n",
              " <selenium.webdriver.remote.webelement.WebElement (session=\"4f45e81640dc7b6285625b562c439176\", element=\"f.6B25A0906C3A84CCFC3B0BFF991B5859.d.CDB33A07129696021F4E1994713DDAA5.e.53\")>,\n",
              " <selenium.webdriver.remote.webelement.WebElement (session=\"4f45e81640dc7b6285625b562c439176\", element=\"f.6B25A0906C3A84CCFC3B0BFF991B5859.d.CDB33A07129696021F4E1994713DDAA5.e.54\")>,\n",
              " <selenium.webdriver.remote.webelement.WebElement (session=\"4f45e81640dc7b6285625b562c439176\", element=\"f.6B25A0906C3A84CCFC3B0BFF991B5859.d.CDB33A07129696021F4E1994713DDAA5.e.55\")>,\n",
              " <selenium.webdriver.remote.webelement.WebElement (session=\"4f45e81640dc7b6285625b562c439176\", element=\"f.6B25A0906C3A84CCFC3B0BFF991B5859.d.CDB33A07129696021F4E1994713DDAA5.e.56\")>,\n",
              " <selenium.webdriver.remote.webelement.WebElement (session=\"4f45e81640dc7b6285625b562c439176\", element=\"f.6B25A0906C3A84CCFC3B0BFF991B5859.d.CDB33A07129696021F4E1994713DDAA5.e.57\")>,\n",
              " <selenium.webdriver.remote.webelement.WebElement (session=\"4f45e81640dc7b6285625b562c439176\", element=\"f.6B25A0906C3A84CCFC3B0BFF991B5859.d.CDB33A07129696021F4E1994713DDAA5.e.58\")>,\n",
              " <selenium.webdriver.remote.webelement.WebElement (session=\"4f45e81640dc7b6285625b562c439176\", element=\"f.6B25A0906C3A84CCFC3B0BFF991B5859.d.CDB33A07129696021F4E1994713DDAA5.e.59\")>,\n",
              " <selenium.webdriver.remote.webelement.WebElement (session=\"4f45e81640dc7b6285625b562c439176\", element=\"f.6B25A0906C3A84CCFC3B0BFF991B5859.d.CDB33A07129696021F4E1994713DDAA5.e.60\")>,\n",
              " <selenium.webdriver.remote.webelement.WebElement (session=\"4f45e81640dc7b6285625b562c439176\", element=\"f.6B25A0906C3A84CCFC3B0BFF991B5859.d.CDB33A07129696021F4E1994713DDAA5.e.61\")>,\n",
              " <selenium.webdriver.remote.webelement.WebElement (session=\"4f45e81640dc7b6285625b562c439176\", element=\"f.6B25A0906C3A84CCFC3B0BFF991B5859.d.CDB33A07129696021F4E1994713DDAA5.e.62\")>,\n",
              " <selenium.webdriver.remote.webelement.WebElement (session=\"4f45e81640dc7b6285625b562c439176\", element=\"f.6B25A0906C3A84CCFC3B0BFF991B5859.d.CDB33A07129696021F4E1994713DDAA5.e.63\")>,\n",
              " <selenium.webdriver.remote.webelement.WebElement (session=\"4f45e81640dc7b6285625b562c439176\", element=\"f.6B25A0906C3A84CCFC3B0BFF991B5859.d.CDB33A07129696021F4E1994713DDAA5.e.64\")>,\n",
              " <selenium.webdriver.remote.webelement.WebElement (session=\"4f45e81640dc7b6285625b562c439176\", element=\"f.6B25A0906C3A84CCFC3B0BFF991B5859.d.CDB33A07129696021F4E1994713DDAA5.e.65\")>,\n",
              " <selenium.webdriver.remote.webelement.WebElement (session=\"4f45e81640dc7b6285625b562c439176\", element=\"f.6B25A0906C3A84CCFC3B0BFF991B5859.d.CDB33A07129696021F4E1994713DDAA5.e.66\")>,\n",
              " <selenium.webdriver.remote.webelement.WebElement (session=\"4f45e81640dc7b6285625b562c439176\", element=\"f.6B25A0906C3A84CCFC3B0BFF991B5859.d.CDB33A07129696021F4E1994713DDAA5.e.67\")>,\n",
              " <selenium.webdriver.remote.webelement.WebElement (session=\"4f45e81640dc7b6285625b562c439176\", element=\"f.6B25A0906C3A84CCFC3B0BFF991B5859.d.CDB33A07129696021F4E1994713DDAA5.e.68\")>,\n",
              " <selenium.webdriver.remote.webelement.WebElement (session=\"4f45e81640dc7b6285625b562c439176\", element=\"f.6B25A0906C3A84CCFC3B0BFF991B5859.d.CDB33A07129696021F4E1994713DDAA5.e.69\")>,\n",
              " <selenium.webdriver.remote.webelement.WebElement (session=\"4f45e81640dc7b6285625b562c439176\", element=\"f.6B25A0906C3A84CCFC3B0BFF991B5859.d.CDB33A07129696021F4E1994713DDAA5.e.70\")>,\n",
              " <selenium.webdriver.remote.webelement.WebElement (session=\"4f45e81640dc7b6285625b562c439176\", element=\"f.6B25A0906C3A84CCFC3B0BFF991B5859.d.CDB33A07129696021F4E1994713DDAA5.e.71\")>,\n",
              " <selenium.webdriver.remote.webelement.WebElement (session=\"4f45e81640dc7b6285625b562c439176\", element=\"f.6B25A0906C3A84CCFC3B0BFF991B5859.d.CDB33A07129696021F4E1994713DDAA5.e.72\")>,\n",
              " <selenium.webdriver.remote.webelement.WebElement (session=\"4f45e81640dc7b6285625b562c439176\", element=\"f.6B25A0906C3A84CCFC3B0BFF991B5859.d.CDB33A07129696021F4E1994713DDAA5.e.73\")>,\n",
              " <selenium.webdriver.remote.webelement.WebElement (session=\"4f45e81640dc7b6285625b562c439176\", element=\"f.6B25A0906C3A84CCFC3B0BFF991B5859.d.CDB33A07129696021F4E1994713DDAA5.e.74\")>,\n",
              " <selenium.webdriver.remote.webelement.WebElement (session=\"4f45e81640dc7b6285625b562c439176\", element=\"f.6B25A0906C3A84CCFC3B0BFF991B5859.d.CDB33A07129696021F4E1994713DDAA5.e.75\")>,\n",
              " <selenium.webdriver.remote.webelement.WebElement (session=\"4f45e81640dc7b6285625b562c439176\", element=\"f.6B25A0906C3A84CCFC3B0BFF991B5859.d.CDB33A07129696021F4E1994713DDAA5.e.76\")>,\n",
              " <selenium.webdriver.remote.webelement.WebElement (session=\"4f45e81640dc7b6285625b562c439176\", element=\"f.6B25A0906C3A84CCFC3B0BFF991B5859.d.CDB33A07129696021F4E1994713DDAA5.e.77\")>,\n",
              " <selenium.webdriver.remote.webelement.WebElement (session=\"4f45e81640dc7b6285625b562c439176\", element=\"f.6B25A0906C3A84CCFC3B0BFF991B5859.d.CDB33A07129696021F4E1994713DDAA5.e.78\")>,\n",
              " <selenium.webdriver.remote.webelement.WebElement (session=\"4f45e81640dc7b6285625b562c439176\", element=\"f.6B25A0906C3A84CCFC3B0BFF991B5859.d.CDB33A07129696021F4E1994713DDAA5.e.79\")>,\n",
              " <selenium.webdriver.remote.webelement.WebElement (session=\"4f45e81640dc7b6285625b562c439176\", element=\"f.6B25A0906C3A84CCFC3B0BFF991B5859.d.CDB33A07129696021F4E1994713DDAA5.e.80\")>,\n",
              " <selenium.webdriver.remote.webelement.WebElement (session=\"4f45e81640dc7b6285625b562c439176\", element=\"f.6B25A0906C3A84CCFC3B0BFF991B5859.d.CDB33A07129696021F4E1994713DDAA5.e.81\")>,\n",
              " <selenium.webdriver.remote.webelement.WebElement (session=\"4f45e81640dc7b6285625b562c439176\", element=\"f.6B25A0906C3A84CCFC3B0BFF991B5859.d.CDB33A07129696021F4E1994713DDAA5.e.82\")>,\n",
              " <selenium.webdriver.remote.webelement.WebElement (session=\"4f45e81640dc7b6285625b562c439176\", element=\"f.6B25A0906C3A84CCFC3B0BFF991B5859.d.CDB33A07129696021F4E1994713DDAA5.e.83\")>,\n",
              " <selenium.webdriver.remote.webelement.WebElement (session=\"4f45e81640dc7b6285625b562c439176\", element=\"f.6B25A0906C3A84CCFC3B0BFF991B5859.d.CDB33A07129696021F4E1994713DDAA5.e.84\")>,\n",
              " <selenium.webdriver.remote.webelement.WebElement (session=\"4f45e81640dc7b6285625b562c439176\", element=\"f.6B25A0906C3A84CCFC3B0BFF991B5859.d.CDB33A07129696021F4E1994713DDAA5.e.85\")>,\n",
              " <selenium.webdriver.remote.webelement.WebElement (session=\"4f45e81640dc7b6285625b562c439176\", element=\"f.6B25A0906C3A84CCFC3B0BFF991B5859.d.CDB33A07129696021F4E1994713DDAA5.e.86\")>,\n",
              " <selenium.webdriver.remote.webelement.WebElement (session=\"4f45e81640dc7b6285625b562c439176\", element=\"f.6B25A0906C3A84CCFC3B0BFF991B5859.d.CDB33A07129696021F4E1994713DDAA5.e.87\")>,\n",
              " <selenium.webdriver.remote.webelement.WebElement (session=\"4f45e81640dc7b6285625b562c439176\", element=\"f.6B25A0906C3A84CCFC3B0BFF991B5859.d.CDB33A07129696021F4E1994713DDAA5.e.88\")>,\n",
              " <selenium.webdriver.remote.webelement.WebElement (session=\"4f45e81640dc7b6285625b562c439176\", element=\"f.6B25A0906C3A84CCFC3B0BFF991B5859.d.CDB33A07129696021F4E1994713DDAA5.e.89\")>,\n",
              " <selenium.webdriver.remote.webelement.WebElement (session=\"4f45e81640dc7b6285625b562c439176\", element=\"f.6B25A0906C3A84CCFC3B0BFF991B5859.d.CDB33A07129696021F4E1994713DDAA5.e.90\")>,\n",
              " <selenium.webdriver.remote.webelement.WebElement (session=\"4f45e81640dc7b6285625b562c439176\", element=\"f.6B25A0906C3A84CCFC3B0BFF991B5859.d.CDB33A07129696021F4E1994713DDAA5.e.91\")>,\n",
              " <selenium.webdriver.remote.webelement.WebElement (session=\"4f45e81640dc7b6285625b562c439176\", element=\"f.6B25A0906C3A84CCFC3B0BFF991B5859.d.CDB33A07129696021F4E1994713DDAA5.e.92\")>,\n",
              " <selenium.webdriver.remote.webelement.WebElement (session=\"4f45e81640dc7b6285625b562c439176\", element=\"f.6B25A0906C3A84CCFC3B0BFF991B5859.d.CDB33A07129696021F4E1994713DDAA5.e.93\")>,\n",
              " <selenium.webdriver.remote.webelement.WebElement (session=\"4f45e81640dc7b6285625b562c439176\", element=\"f.6B25A0906C3A84CCFC3B0BFF991B5859.d.CDB33A07129696021F4E1994713DDAA5.e.94\")>,\n",
              " <selenium.webdriver.remote.webelement.WebElement (session=\"4f45e81640dc7b6285625b562c439176\", element=\"f.6B25A0906C3A84CCFC3B0BFF991B5859.d.CDB33A07129696021F4E1994713DDAA5.e.95\")>,\n",
              " <selenium.webdriver.remote.webelement.WebElement (session=\"4f45e81640dc7b6285625b562c439176\", element=\"f.6B25A0906C3A84CCFC3B0BFF991B5859.d.CDB33A07129696021F4E1994713DDAA5.e.96\")>,\n",
              " <selenium.webdriver.remote.webelement.WebElement (session=\"4f45e81640dc7b6285625b562c439176\", element=\"f.6B25A0906C3A84CCFC3B0BFF991B5859.d.CDB33A07129696021F4E1994713DDAA5.e.97\")>,\n",
              " <selenium.webdriver.remote.webelement.WebElement (session=\"4f45e81640dc7b6285625b562c439176\", element=\"f.6B25A0906C3A84CCFC3B0BFF991B5859.d.CDB33A07129696021F4E1994713DDAA5.e.98\")>,\n",
              " <selenium.webdriver.remote.webelement.WebElement (session=\"4f45e81640dc7b6285625b562c439176\", element=\"f.6B25A0906C3A84CCFC3B0BFF991B5859.d.CDB33A07129696021F4E1994713DDAA5.e.99\")>,\n",
              " <selenium.webdriver.remote.webelement.WebElement (session=\"4f45e81640dc7b6285625b562c439176\", element=\"f.6B25A0906C3A84CCFC3B0BFF991B5859.d.CDB33A07129696021F4E1994713DDAA5.e.100\")>,\n",
              " <selenium.webdriver.remote.webelement.WebElement (session=\"4f45e81640dc7b6285625b562c439176\", element=\"f.6B25A0906C3A84CCFC3B0BFF991B5859.d.CDB33A07129696021F4E1994713DDAA5.e.101\")>,\n",
              " <selenium.webdriver.remote.webelement.WebElement (session=\"4f45e81640dc7b6285625b562c439176\", element=\"f.6B25A0906C3A84CCFC3B0BFF991B5859.d.CDB33A07129696021F4E1994713DDAA5.e.102\")>,\n",
              " <selenium.webdriver.remote.webelement.WebElement (session=\"4f45e81640dc7b6285625b562c439176\", element=\"f.6B25A0906C3A84CCFC3B0BFF991B5859.d.CDB33A07129696021F4E1994713DDAA5.e.103\")>,\n",
              " <selenium.webdriver.remote.webelement.WebElement (session=\"4f45e81640dc7b6285625b562c439176\", element=\"f.6B25A0906C3A84CCFC3B0BFF991B5859.d.CDB33A07129696021F4E1994713DDAA5.e.104\")>,\n",
              " <selenium.webdriver.remote.webelement.WebElement (session=\"4f45e81640dc7b6285625b562c439176\", element=\"f.6B25A0906C3A84CCFC3B0BFF991B5859.d.CDB33A07129696021F4E1994713DDAA5.e.105\")>,\n",
              " <selenium.webdriver.remote.webelement.WebElement (session=\"4f45e81640dc7b6285625b562c439176\", element=\"f.6B25A0906C3A84CCFC3B0BFF991B5859.d.CDB33A07129696021F4E1994713DDAA5.e.106\")>,\n",
              " <selenium.webdriver.remote.webelement.WebElement (session=\"4f45e81640dc7b6285625b562c439176\", element=\"f.6B25A0906C3A84CCFC3B0BFF991B5859.d.CDB33A07129696021F4E1994713DDAA5.e.107\")>,\n",
              " <selenium.webdriver.remote.webelement.WebElement (session=\"4f45e81640dc7b6285625b562c439176\", element=\"f.6B25A0906C3A84CCFC3B0BFF991B5859.d.CDB33A07129696021F4E1994713DDAA5.e.108\")>,\n",
              " <selenium.webdriver.remote.webelement.WebElement (session=\"4f45e81640dc7b6285625b562c439176\", element=\"f.6B25A0906C3A84CCFC3B0BFF991B5859.d.CDB33A07129696021F4E1994713DDAA5.e.109\")>,\n",
              " <selenium.webdriver.remote.webelement.WebElement (session=\"4f45e81640dc7b6285625b562c439176\", element=\"f.6B25A0906C3A84CCFC3B0BFF991B5859.d.CDB33A07129696021F4E1994713DDAA5.e.110\")>,\n",
              " <selenium.webdriver.remote.webelement.WebElement (session=\"4f45e81640dc7b6285625b562c439176\", element=\"f.6B25A0906C3A84CCFC3B0BFF991B5859.d.CDB33A07129696021F4E1994713DDAA5.e.111\")>,\n",
              " <selenium.webdriver.remote.webelement.WebElement (session=\"4f45e81640dc7b6285625b562c439176\", element=\"f.6B25A0906C3A84CCFC3B0BFF991B5859.d.CDB33A07129696021F4E1994713DDAA5.e.112\")>,\n",
              " <selenium.webdriver.remote.webelement.WebElement (session=\"4f45e81640dc7b6285625b562c439176\", element=\"f.6B25A0906C3A84CCFC3B0BFF991B5859.d.CDB33A07129696021F4E1994713DDAA5.e.113\")>,\n",
              " <selenium.webdriver.remote.webelement.WebElement (session=\"4f45e81640dc7b6285625b562c439176\", element=\"f.6B25A0906C3A84CCFC3B0BFF991B5859.d.CDB33A07129696021F4E1994713DDAA5.e.114\")>,\n",
              " <selenium.webdriver.remote.webelement.WebElement (session=\"4f45e81640dc7b6285625b562c439176\", element=\"f.6B25A0906C3A84CCFC3B0BFF991B5859.d.CDB33A07129696021F4E1994713DDAA5.e.115\")>,\n",
              " <selenium.webdriver.remote.webelement.WebElement (session=\"4f45e81640dc7b6285625b562c439176\", element=\"f.6B25A0906C3A84CCFC3B0BFF991B5859.d.CDB33A07129696021F4E1994713DDAA5.e.116\")>,\n",
              " <selenium.webdriver.remote.webelement.WebElement (session=\"4f45e81640dc7b6285625b562c439176\", element=\"f.6B25A0906C3A84CCFC3B0BFF991B5859.d.CDB33A07129696021F4E1994713DDAA5.e.117\")>]"
            ]
          },
          "metadata": {},
          "execution_count": 38
        }
      ]
    },
    {
      "cell_type": "markdown",
      "source": [
        "## **Fetching Movie URL's**"
      ],
      "metadata": {
        "id": "9j3-01ZSXs6Q"
      }
    },
    {
      "cell_type": "code",
      "source": [
        "# write your code here\n",
        "movies=[]\n",
        "for i in title_list:\n",
        "    name=i.get_attribute('href')\n",
        "    movies.append(name)\n",
        "movies"
      ],
      "metadata": {
        "colab": {
          "base_uri": "https://localhost:8080/"
        },
        "id": "0EyuWQFrXogK",
        "outputId": "5cf60ccd-af78-42e9-a7f8-05b968ef4ce9"
      },
      "execution_count": null,
      "outputs": [
        {
          "output_type": "execute_result",
          "data": {
            "text/plain": [
              "['https://www.justwatch.com/in/movie/hanu-man',\n",
              " 'https://www.justwatch.com/in/movie/oppenheimer',\n",
              " 'https://www.justwatch.com/in/movie/untitled-shahid-kapoor-kriti-sanon-film',\n",
              " 'https://www.justwatch.com/in/movie/fighter-2022',\n",
              " 'https://www.justwatch.com/in/movie/poor-things',\n",
              " 'https://www.justwatch.com/in/movie/anatomie-dune-chute',\n",
              " 'https://www.justwatch.com/in/movie/bramayugam',\n",
              " 'https://www.justwatch.com/in/movie/dune-2021',\n",
              " 'https://www.justwatch.com/in/movie/animal-2022',\n",
              " 'https://www.justwatch.com/in/movie/merry-christmas-2024',\n",
              " 'https://www.justwatch.com/in/movie/12th-fail',\n",
              " 'https://www.justwatch.com/in/movie/anyone-but-you',\n",
              " 'https://www.justwatch.com/in/movie/road-house-2024',\n",
              " 'https://www.justwatch.com/in/movie/anweshippin-kandethum',\n",
              " 'https://www.justwatch.com/in/movie/murder-mubarak',\n",
              " 'https://www.justwatch.com/in/movie/manjummel-boys',\n",
              " 'https://www.justwatch.com/in/movie/black-magic-2024',\n",
              " 'https://www.justwatch.com/in/movie/article-370',\n",
              " 'https://www.justwatch.com/in/movie/aattam',\n",
              " 'https://www.justwatch.com/in/movie/salaar',\n",
              " 'https://www.justwatch.com/in/movie/premalu',\n",
              " 'https://www.justwatch.com/in/movie/sam-bahadur',\n",
              " 'https://www.justwatch.com/in/movie/eagle-2024',\n",
              " 'https://www.justwatch.com/in/movie/kung-fu-panda',\n",
              " 'https://www.justwatch.com/in/movie/damsel-2023',\n",
              " 'https://www.justwatch.com/in/movie/dune-part-two',\n",
              " 'https://www.justwatch.com/in/movie/the-beekeeper-2024',\n",
              " 'https://www.justwatch.com/in/movie/laapataa-ladies',\n",
              " 'https://www.justwatch.com/in/movie/the-crew-2024',\n",
              " 'https://www.justwatch.com/in/movie/madame-web',\n",
              " 'https://www.justwatch.com/in/movie/the-kerala-story',\n",
              " 'https://www.justwatch.com/in/movie/godzilla-minus-one',\n",
              " 'https://www.justwatch.com/in/movie/godzilla-x-kong-the-new-empire',\n",
              " 'https://www.justwatch.com/in/movie/365-days',\n",
              " 'https://www.justwatch.com/in/movie/abraham-ozler',\n",
              " 'https://www.justwatch.com/in/movie/dunki',\n",
              " 'https://www.justwatch.com/in/movie/aquaman-and-the-lost-kingdom',\n",
              " 'https://www.justwatch.com/in/movie/vadakkupatti-ramasamy',\n",
              " 'https://www.justwatch.com/in/movie/the-holdovers',\n",
              " 'https://www.justwatch.com/in/movie/the-zone-of-interest',\n",
              " 'https://www.justwatch.com/in/movie/lover-2024',\n",
              " 'https://www.justwatch.com/in/movie/main-atal-hoon',\n",
              " 'https://www.justwatch.com/in/movie/blackberry',\n",
              " 'https://www.justwatch.com/in/movie/ferrari',\n",
              " 'https://www.justwatch.com/in/movie/mission-chapter-1',\n",
              " 'https://www.justwatch.com/in/movie/migration',\n",
              " 'https://www.justwatch.com/in/movie/the-gentlemen',\n",
              " 'https://www.justwatch.com/in/movie/junior-2023',\n",
              " 'https://www.justwatch.com/in/movie/harry-potter-and-the-philosophers-stone',\n",
              " 'https://www.justwatch.com/in/movie/untitled-cord-jefferson-film',\n",
              " 'https://www.justwatch.com/in/movie/barbie-2023',\n",
              " 'https://www.justwatch.com/in/movie/ssmb-28',\n",
              " 'https://www.justwatch.com/in/movie/godzilla-vs-kong',\n",
              " 'https://www.justwatch.com/in/movie/captain-miller',\n",
              " 'https://www.justwatch.com/in/movie/madgaon-express',\n",
              " 'https://www.justwatch.com/in/movie/killers-of-the-flower-moon',\n",
              " 'https://www.justwatch.com/in/movie/operation-valentine',\n",
              " 'https://www.justwatch.com/in/movie/kung-fu-panda-4',\n",
              " 'https://www.justwatch.com/in/movie/jawan',\n",
              " 'https://www.justwatch.com/in/movie/code-8',\n",
              " 'https://www.justwatch.com/in/movie/kung-fu-panda-2',\n",
              " 'https://www.justwatch.com/in/movie/ooru-peru-bhairavakona',\n",
              " 'https://www.justwatch.com/in/movie/the-wolf-of-wall-street',\n",
              " 'https://www.justwatch.com/in/movie/ricky-stanicky',\n",
              " 'https://www.justwatch.com/in/movie/ayalaan',\n",
              " 'https://www.justwatch.com/in/movie/por',\n",
              " 'https://www.justwatch.com/in/movie/crakk-jeetegaa-toh-jiyegaa',\n",
              " 'https://www.justwatch.com/in/movie/yodha-2022',\n",
              " 'https://www.justwatch.com/in/movie/zara-hatke-zara-bach-ke',\n",
              " 'https://www.justwatch.com/in/movie/past-lives',\n",
              " 'https://www.justwatch.com/in/movie/dj-tillu',\n",
              " 'https://www.justwatch.com/in/movie/red-eye',\n",
              " 'https://www.justwatch.com/in/movie/to-kill-a-tiger',\n",
              " 'https://www.justwatch.com/in/movie/joker-2019',\n",
              " 'https://www.justwatch.com/in/movie/interstellar',\n",
              " 'https://www.justwatch.com/in/movie/jatt-nuu-chudail-takri',\n",
              " 'https://www.justwatch.com/in/movie/thundu',\n",
              " 'https://www.justwatch.com/in/movie/dream-scenario',\n",
              " 'https://www.justwatch.com/in/movie/she-said',\n",
              " 'https://www.justwatch.com/in/movie/spider-man-no-way-home',\n",
              " 'https://www.justwatch.com/in/movie/kung-fu-panda-3',\n",
              " 'https://www.justwatch.com/in/movie/uri-the-surgical-strike',\n",
              " 'https://www.justwatch.com/in/movie/k-g-f-chapter-2',\n",
              " 'https://www.justwatch.com/in/movie/la-la-land',\n",
              " 'https://www.justwatch.com/in/movie/snatch',\n",
              " 'https://www.justwatch.com/in/movie/tumbbad',\n",
              " 'https://www.justwatch.com/in/movie/kong-skull-island',\n",
              " 'https://www.justwatch.com/in/movie/argylle',\n",
              " 'https://www.justwatch.com/in/movie/the-guest-2014',\n",
              " 'https://www.justwatch.com/in/movie/hacksaw-ridge',\n",
              " 'https://www.justwatch.com/in/movie/rocky-aur-rani-ki-prem-kahani',\n",
              " 'https://www.justwatch.com/in/movie/godzilla-king-of-the-monsters',\n",
              " 'https://www.justwatch.com/in/movie/pushpa',\n",
              " 'https://www.justwatch.com/in/movie/fast-x',\n",
              " 'https://www.justwatch.com/in/movie/aadujeevitham',\n",
              " 'https://www.justwatch.com/in/movie/swatantra-veer-savarkar',\n",
              " 'https://www.justwatch.com/in/movie/land-of-bad',\n",
              " 'https://www.justwatch.com/in/movie/masthu-shades-unnai-ra',\n",
              " 'https://www.justwatch.com/in/movie/godzilla',\n",
              " 'https://www.justwatch.com/in/movie/upgraded']"
            ]
          },
          "metadata": {},
          "execution_count": 39
        }
      ]
    },
    {
      "cell_type": "markdown",
      "source": [
        "## **Scrapping Movie Title**"
      ],
      "metadata": {
        "id": "PAFEsOhaX5WN"
      }
    },
    {
      "cell_type": "code",
      "source": [
        "# Write Your Code here\n",
        "def extract_movie_name_from_url(url):\n",
        "    return url.split('/')[-1]\n",
        "\n",
        "# Extract movie names from the URLs\n",
        "movie_names = [extract_movie_name_from_url(url) for url in movies]"
      ],
      "metadata": {
        "id": "jh0JfVevXz9x"
      },
      "execution_count": null,
      "outputs": []
    },
    {
      "cell_type": "code",
      "source": [
        "movie_names"
      ],
      "metadata": {
        "colab": {
          "base_uri": "https://localhost:8080/"
        },
        "id": "XSWhy5wVX_fF",
        "outputId": "1418fc60-4a47-47be-fa70-16a78f4f477f"
      },
      "execution_count": null,
      "outputs": [
        {
          "output_type": "execute_result",
          "data": {
            "text/plain": [
              "['hanu-man',\n",
              " 'oppenheimer',\n",
              " 'untitled-shahid-kapoor-kriti-sanon-film',\n",
              " 'fighter-2022',\n",
              " 'poor-things',\n",
              " 'anatomie-dune-chute',\n",
              " 'bramayugam',\n",
              " 'dune-2021',\n",
              " 'animal-2022',\n",
              " 'merry-christmas-2024',\n",
              " '12th-fail',\n",
              " 'anyone-but-you',\n",
              " 'road-house-2024',\n",
              " 'anweshippin-kandethum',\n",
              " 'murder-mubarak',\n",
              " 'manjummel-boys',\n",
              " 'black-magic-2024',\n",
              " 'article-370',\n",
              " 'aattam',\n",
              " 'salaar',\n",
              " 'premalu',\n",
              " 'sam-bahadur',\n",
              " 'eagle-2024',\n",
              " 'kung-fu-panda',\n",
              " 'damsel-2023',\n",
              " 'dune-part-two',\n",
              " 'the-beekeeper-2024',\n",
              " 'laapataa-ladies',\n",
              " 'the-crew-2024',\n",
              " 'madame-web',\n",
              " 'the-kerala-story',\n",
              " 'godzilla-minus-one',\n",
              " 'godzilla-x-kong-the-new-empire',\n",
              " '365-days',\n",
              " 'abraham-ozler',\n",
              " 'dunki',\n",
              " 'aquaman-and-the-lost-kingdom',\n",
              " 'vadakkupatti-ramasamy',\n",
              " 'the-holdovers',\n",
              " 'the-zone-of-interest',\n",
              " 'lover-2024',\n",
              " 'main-atal-hoon',\n",
              " 'blackberry',\n",
              " 'ferrari',\n",
              " 'mission-chapter-1',\n",
              " 'migration',\n",
              " 'the-gentlemen',\n",
              " 'junior-2023',\n",
              " 'harry-potter-and-the-philosophers-stone',\n",
              " 'untitled-cord-jefferson-film',\n",
              " 'barbie-2023',\n",
              " 'ssmb-28',\n",
              " 'godzilla-vs-kong',\n",
              " 'captain-miller',\n",
              " 'madgaon-express',\n",
              " 'killers-of-the-flower-moon',\n",
              " 'operation-valentine',\n",
              " 'kung-fu-panda-4',\n",
              " 'jawan',\n",
              " 'code-8',\n",
              " 'kung-fu-panda-2',\n",
              " 'ooru-peru-bhairavakona',\n",
              " 'the-wolf-of-wall-street',\n",
              " 'ricky-stanicky',\n",
              " 'ayalaan',\n",
              " 'por',\n",
              " 'crakk-jeetegaa-toh-jiyegaa',\n",
              " 'yodha-2022',\n",
              " 'zara-hatke-zara-bach-ke',\n",
              " 'past-lives',\n",
              " 'dj-tillu',\n",
              " 'red-eye',\n",
              " 'to-kill-a-tiger',\n",
              " 'joker-2019',\n",
              " 'interstellar',\n",
              " 'jatt-nuu-chudail-takri',\n",
              " 'thundu',\n",
              " 'dream-scenario',\n",
              " 'she-said',\n",
              " 'spider-man-no-way-home',\n",
              " 'kung-fu-panda-3',\n",
              " 'uri-the-surgical-strike',\n",
              " 'k-g-f-chapter-2',\n",
              " 'la-la-land',\n",
              " 'snatch',\n",
              " 'tumbbad',\n",
              " 'kong-skull-island',\n",
              " 'argylle',\n",
              " 'the-guest-2014',\n",
              " 'hacksaw-ridge',\n",
              " 'rocky-aur-rani-ki-prem-kahani',\n",
              " 'godzilla-king-of-the-monsters',\n",
              " 'pushpa',\n",
              " 'fast-x',\n",
              " 'aadujeevitham',\n",
              " 'swatantra-veer-savarkar',\n",
              " 'land-of-bad',\n",
              " 'masthu-shades-unnai-ra',\n",
              " 'godzilla',\n",
              " 'upgraded']"
            ]
          },
          "metadata": {},
          "execution_count": 41
        }
      ]
    },
    {
      "cell_type": "markdown",
      "source": [
        "## **Scrapping release Year**"
      ],
      "metadata": {
        "id": "aIJeUX0xYHXQ"
      }
    },
    {
      "cell_type": "code",
      "source": [
        "# Write Your Code here\n",
        "Release_year=[]\n",
        "for movie_url in movies:\n",
        "    driver.get(movie_url)\n",
        "\n",
        "    try:\n",
        "        # Find the release year element\n",
        "        release_year_element = driver.find_element(By.XPATH, \"//span[@class='text-muted']\")\n",
        "        release_year = release_year_element.text.strip(\"()\")\n",
        "    except:\n",
        "        release_year = \"Release Year not found\"\n",
        "    Release_year.append({\"Movie URL\": movie_url, \"Release Year\": release_year})\n",
        "\n",
        "for cur_movie in Release_year:\n",
        "  print(cur_movie)"
      ],
      "metadata": {
        "colab": {
          "base_uri": "https://localhost:8080/"
        },
        "id": "WtnAX51jYDqS",
        "outputId": "f3fb5129-133d-48a3-ede1-85b9ed93eff4"
      },
      "execution_count": null,
      "outputs": [
        {
          "output_type": "stream",
          "name": "stdout",
          "text": [
            "{'Movie URL': 'https://www.justwatch.com/in/movie/hanu-man', 'Release Year': ''}\n",
            "{'Movie URL': 'https://www.justwatch.com/in/movie/oppenheimer', 'Release Year': ''}\n",
            "{'Movie URL': 'https://www.justwatch.com/in/movie/untitled-shahid-kapoor-kriti-sanon-film', 'Release Year': ''}\n",
            "{'Movie URL': 'https://www.justwatch.com/in/movie/fighter-2022', 'Release Year': ''}\n",
            "{'Movie URL': 'https://www.justwatch.com/in/movie/poor-things', 'Release Year': ''}\n",
            "{'Movie URL': 'https://www.justwatch.com/in/movie/anatomie-dune-chute', 'Release Year': ''}\n",
            "{'Movie URL': 'https://www.justwatch.com/in/movie/bramayugam', 'Release Year': ''}\n",
            "{'Movie URL': 'https://www.justwatch.com/in/movie/dune-2021', 'Release Year': ''}\n",
            "{'Movie URL': 'https://www.justwatch.com/in/movie/animal-2022', 'Release Year': ''}\n",
            "{'Movie URL': 'https://www.justwatch.com/in/movie/merry-christmas-2024', 'Release Year': ''}\n",
            "{'Movie URL': 'https://www.justwatch.com/in/movie/12th-fail', 'Release Year': ''}\n",
            "{'Movie URL': 'https://www.justwatch.com/in/movie/anyone-but-you', 'Release Year': ''}\n",
            "{'Movie URL': 'https://www.justwatch.com/in/movie/road-house-2024', 'Release Year': ''}\n",
            "{'Movie URL': 'https://www.justwatch.com/in/movie/anweshippin-kandethum', 'Release Year': ''}\n",
            "{'Movie URL': 'https://www.justwatch.com/in/movie/murder-mubarak', 'Release Year': ''}\n",
            "{'Movie URL': 'https://www.justwatch.com/in/movie/manjummel-boys', 'Release Year': ''}\n",
            "{'Movie URL': 'https://www.justwatch.com/in/movie/black-magic-2024', 'Release Year': ''}\n",
            "{'Movie URL': 'https://www.justwatch.com/in/movie/article-370', 'Release Year': ''}\n",
            "{'Movie URL': 'https://www.justwatch.com/in/movie/aattam', 'Release Year': ''}\n",
            "{'Movie URL': 'https://www.justwatch.com/in/movie/salaar', 'Release Year': ''}\n",
            "{'Movie URL': 'https://www.justwatch.com/in/movie/premalu', 'Release Year': ''}\n",
            "{'Movie URL': 'https://www.justwatch.com/in/movie/sam-bahadur', 'Release Year': ''}\n",
            "{'Movie URL': 'https://www.justwatch.com/in/movie/eagle-2024', 'Release Year': 'Release Year not found'}\n",
            "{'Movie URL': 'https://www.justwatch.com/in/movie/kung-fu-panda', 'Release Year': ''}\n",
            "{'Movie URL': 'https://www.justwatch.com/in/movie/damsel-2023', 'Release Year': 'Release Year not found'}\n",
            "{'Movie URL': 'https://www.justwatch.com/in/movie/dune-part-two', 'Release Year': 'Release Year not found'}\n",
            "{'Movie URL': 'https://www.justwatch.com/in/movie/the-beekeeper-2024', 'Release Year': 'Release Year not found'}\n",
            "{'Movie URL': 'https://www.justwatch.com/in/movie/laapataa-ladies', 'Release Year': 'Release Year not found'}\n",
            "{'Movie URL': 'https://www.justwatch.com/in/movie/the-crew-2024', 'Release Year': 'Release Year not found'}\n",
            "{'Movie URL': 'https://www.justwatch.com/in/movie/madame-web', 'Release Year': 'Release Year not found'}\n",
            "{'Movie URL': 'https://www.justwatch.com/in/movie/the-kerala-story', 'Release Year': 'Release Year not found'}\n",
            "{'Movie URL': 'https://www.justwatch.com/in/movie/godzilla-minus-one', 'Release Year': 'Release Year not found'}\n",
            "{'Movie URL': 'https://www.justwatch.com/in/movie/godzilla-x-kong-the-new-empire', 'Release Year': 'Release Year not found'}\n",
            "{'Movie URL': 'https://www.justwatch.com/in/movie/365-days', 'Release Year': ''}\n",
            "{'Movie URL': 'https://www.justwatch.com/in/movie/abraham-ozler', 'Release Year': 'Release Year not found'}\n",
            "{'Movie URL': 'https://www.justwatch.com/in/movie/dunki', 'Release Year': 'Release Year not found'}\n",
            "{'Movie URL': 'https://www.justwatch.com/in/movie/aquaman-and-the-lost-kingdom', 'Release Year': 'Release Year not found'}\n",
            "{'Movie URL': 'https://www.justwatch.com/in/movie/vadakkupatti-ramasamy', 'Release Year': 'Release Year not found'}\n",
            "{'Movie URL': 'https://www.justwatch.com/in/movie/the-holdovers', 'Release Year': 'Release Year not found'}\n",
            "{'Movie URL': 'https://www.justwatch.com/in/movie/the-zone-of-interest', 'Release Year': 'Release Year not found'}\n",
            "{'Movie URL': 'https://www.justwatch.com/in/movie/lover-2024', 'Release Year': 'Release Year not found'}\n",
            "{'Movie URL': 'https://www.justwatch.com/in/movie/main-atal-hoon', 'Release Year': ''}\n",
            "{'Movie URL': 'https://www.justwatch.com/in/movie/blackberry', 'Release Year': 'Release Year not found'}\n",
            "{'Movie URL': 'https://www.justwatch.com/in/movie/ferrari', 'Release Year': 'Release Year not found'}\n",
            "{'Movie URL': 'https://www.justwatch.com/in/movie/mission-chapter-1', 'Release Year': 'Release Year not found'}\n",
            "{'Movie URL': 'https://www.justwatch.com/in/movie/migration', 'Release Year': 'Release Year not found'}\n",
            "{'Movie URL': 'https://www.justwatch.com/in/movie/the-gentlemen', 'Release Year': 'Release Year not found'}\n",
            "{'Movie URL': 'https://www.justwatch.com/in/movie/junior-2023', 'Release Year': 'Release Year not found'}\n",
            "{'Movie URL': 'https://www.justwatch.com/in/movie/harry-potter-and-the-philosophers-stone', 'Release Year': 'Release Year not found'}\n",
            "{'Movie URL': 'https://www.justwatch.com/in/movie/untitled-cord-jefferson-film', 'Release Year': 'Release Year not found'}\n",
            "{'Movie URL': 'https://www.justwatch.com/in/movie/barbie-2023', 'Release Year': 'Release Year not found'}\n",
            "{'Movie URL': 'https://www.justwatch.com/in/movie/ssmb-28', 'Release Year': 'Release Year not found'}\n",
            "{'Movie URL': 'https://www.justwatch.com/in/movie/godzilla-vs-kong', 'Release Year': 'Release Year not found'}\n",
            "{'Movie URL': 'https://www.justwatch.com/in/movie/captain-miller', 'Release Year': 'Release Year not found'}\n",
            "{'Movie URL': 'https://www.justwatch.com/in/movie/madgaon-express', 'Release Year': ''}\n",
            "{'Movie URL': 'https://www.justwatch.com/in/movie/killers-of-the-flower-moon', 'Release Year': 'Release Year not found'}\n",
            "{'Movie URL': 'https://www.justwatch.com/in/movie/operation-valentine', 'Release Year': 'Release Year not found'}\n",
            "{'Movie URL': 'https://www.justwatch.com/in/movie/kung-fu-panda-4', 'Release Year': 'Release Year not found'}\n",
            "{'Movie URL': 'https://www.justwatch.com/in/movie/jawan', 'Release Year': 'Release Year not found'}\n",
            "{'Movie URL': 'https://www.justwatch.com/in/movie/code-8', 'Release Year': 'Release Year not found'}\n",
            "{'Movie URL': 'https://www.justwatch.com/in/movie/kung-fu-panda-2', 'Release Year': 'Release Year not found'}\n",
            "{'Movie URL': 'https://www.justwatch.com/in/movie/ooru-peru-bhairavakona', 'Release Year': 'Release Year not found'}\n",
            "{'Movie URL': 'https://www.justwatch.com/in/movie/the-wolf-of-wall-street', 'Release Year': 'Release Year not found'}\n",
            "{'Movie URL': 'https://www.justwatch.com/in/movie/ricky-stanicky', 'Release Year': 'Release Year not found'}\n",
            "{'Movie URL': 'https://www.justwatch.com/in/movie/ayalaan', 'Release Year': 'Release Year not found'}\n",
            "{'Movie URL': 'https://www.justwatch.com/in/movie/por', 'Release Year': 'Release Year not found'}\n",
            "{'Movie URL': 'https://www.justwatch.com/in/movie/crakk-jeetegaa-toh-jiyegaa', 'Release Year': ''}\n",
            "{'Movie URL': 'https://www.justwatch.com/in/movie/yodha-2022', 'Release Year': 'Release Year not found'}\n",
            "{'Movie URL': 'https://www.justwatch.com/in/movie/zara-hatke-zara-bach-ke', 'Release Year': 'Release Year not found'}\n",
            "{'Movie URL': 'https://www.justwatch.com/in/movie/past-lives', 'Release Year': 'Release Year not found'}\n",
            "{'Movie URL': 'https://www.justwatch.com/in/movie/dj-tillu', 'Release Year': 'Release Year not found'}\n",
            "{'Movie URL': 'https://www.justwatch.com/in/movie/red-eye', 'Release Year': 'Release Year not found'}\n",
            "{'Movie URL': 'https://www.justwatch.com/in/movie/to-kill-a-tiger', 'Release Year': 'Release Year not found'}\n",
            "{'Movie URL': 'https://www.justwatch.com/in/movie/joker-2019', 'Release Year': 'Release Year not found'}\n",
            "{'Movie URL': 'https://www.justwatch.com/in/movie/interstellar', 'Release Year': 'Release Year not found'}\n",
            "{'Movie URL': 'https://www.justwatch.com/in/movie/jatt-nuu-chudail-takri', 'Release Year': 'Release Year not found'}\n",
            "{'Movie URL': 'https://www.justwatch.com/in/movie/thundu', 'Release Year': 'Release Year not found'}\n",
            "{'Movie URL': 'https://www.justwatch.com/in/movie/dream-scenario', 'Release Year': 'Release Year not found'}\n",
            "{'Movie URL': 'https://www.justwatch.com/in/movie/she-said', 'Release Year': 'Release Year not found'}\n",
            "{'Movie URL': 'https://www.justwatch.com/in/movie/spider-man-no-way-home', 'Release Year': 'Release Year not found'}\n",
            "{'Movie URL': 'https://www.justwatch.com/in/movie/kung-fu-panda-3', 'Release Year': ''}\n",
            "{'Movie URL': 'https://www.justwatch.com/in/movie/uri-the-surgical-strike', 'Release Year': 'Release Year not found'}\n",
            "{'Movie URL': 'https://www.justwatch.com/in/movie/k-g-f-chapter-2', 'Release Year': 'Release Year not found'}\n",
            "{'Movie URL': 'https://www.justwatch.com/in/movie/la-la-land', 'Release Year': 'Release Year not found'}\n",
            "{'Movie URL': 'https://www.justwatch.com/in/movie/snatch', 'Release Year': 'Release Year not found'}\n",
            "{'Movie URL': 'https://www.justwatch.com/in/movie/tumbbad', 'Release Year': 'Release Year not found'}\n",
            "{'Movie URL': 'https://www.justwatch.com/in/movie/kong-skull-island', 'Release Year': 'Release Year not found'}\n",
            "{'Movie URL': 'https://www.justwatch.com/in/movie/argylle', 'Release Year': 'Release Year not found'}\n",
            "{'Movie URL': 'https://www.justwatch.com/in/movie/the-guest-2014', 'Release Year': 'Release Year not found'}\n",
            "{'Movie URL': 'https://www.justwatch.com/in/movie/hacksaw-ridge', 'Release Year': 'Release Year not found'}\n",
            "{'Movie URL': 'https://www.justwatch.com/in/movie/rocky-aur-rani-ki-prem-kahani', 'Release Year': 'Release Year not found'}\n",
            "{'Movie URL': 'https://www.justwatch.com/in/movie/godzilla-king-of-the-monsters', 'Release Year': ''}\n",
            "{'Movie URL': 'https://www.justwatch.com/in/movie/pushpa', 'Release Year': 'Release Year not found'}\n",
            "{'Movie URL': 'https://www.justwatch.com/in/movie/fast-x', 'Release Year': 'Release Year not found'}\n",
            "{'Movie URL': 'https://www.justwatch.com/in/movie/aadujeevitham', 'Release Year': 'Release Year not found'}\n",
            "{'Movie URL': 'https://www.justwatch.com/in/movie/swatantra-veer-savarkar', 'Release Year': 'Release Year not found'}\n",
            "{'Movie URL': 'https://www.justwatch.com/in/movie/land-of-bad', 'Release Year': 'Release Year not found'}\n",
            "{'Movie URL': 'https://www.justwatch.com/in/movie/masthu-shades-unnai-ra', 'Release Year': 'Release Year not found'}\n",
            "{'Movie URL': 'https://www.justwatch.com/in/movie/godzilla', 'Release Year': 'Release Year not found'}\n",
            "{'Movie URL': 'https://www.justwatch.com/in/movie/upgraded', 'Release Year': ''}\n"
          ]
        }
      ]
    },
    {
      "cell_type": "code",
      "source": [
        "# Extract release years from the Release_year list\n",
        "movie_release_years = [year[\"Release Year\"] for year in Release_year]"
      ],
      "metadata": {
        "id": "woKfmoJGYnfz"
      },
      "execution_count": null,
      "outputs": []
    },
    {
      "cell_type": "code",
      "source": [
        "movie_release_years"
      ],
      "metadata": {
        "colab": {
          "base_uri": "https://localhost:8080/"
        },
        "id": "_5eVrASpYpoZ",
        "outputId": "bd39f99d-5df4-4926-da7b-9dfaa1c5c08a"
      },
      "execution_count": null,
      "outputs": [
        {
          "output_type": "execute_result",
          "data": {
            "text/plain": [
              "['',\n",
              " '',\n",
              " '',\n",
              " '',\n",
              " '',\n",
              " '',\n",
              " '',\n",
              " '',\n",
              " '',\n",
              " '',\n",
              " '',\n",
              " '',\n",
              " '',\n",
              " '',\n",
              " '',\n",
              " '',\n",
              " '',\n",
              " '',\n",
              " '',\n",
              " '',\n",
              " '',\n",
              " '',\n",
              " 'Release Year not found',\n",
              " '',\n",
              " 'Release Year not found',\n",
              " 'Release Year not found',\n",
              " 'Release Year not found',\n",
              " 'Release Year not found',\n",
              " 'Release Year not found',\n",
              " 'Release Year not found',\n",
              " 'Release Year not found',\n",
              " 'Release Year not found',\n",
              " 'Release Year not found',\n",
              " '',\n",
              " 'Release Year not found',\n",
              " 'Release Year not found',\n",
              " 'Release Year not found',\n",
              " 'Release Year not found',\n",
              " 'Release Year not found',\n",
              " 'Release Year not found',\n",
              " 'Release Year not found',\n",
              " '',\n",
              " 'Release Year not found',\n",
              " 'Release Year not found',\n",
              " 'Release Year not found',\n",
              " 'Release Year not found',\n",
              " 'Release Year not found',\n",
              " 'Release Year not found',\n",
              " 'Release Year not found',\n",
              " 'Release Year not found',\n",
              " 'Release Year not found',\n",
              " 'Release Year not found',\n",
              " 'Release Year not found',\n",
              " 'Release Year not found',\n",
              " '',\n",
              " 'Release Year not found',\n",
              " 'Release Year not found',\n",
              " 'Release Year not found',\n",
              " 'Release Year not found',\n",
              " 'Release Year not found',\n",
              " 'Release Year not found',\n",
              " 'Release Year not found',\n",
              " 'Release Year not found',\n",
              " 'Release Year not found',\n",
              " 'Release Year not found',\n",
              " 'Release Year not found',\n",
              " '',\n",
              " 'Release Year not found',\n",
              " 'Release Year not found',\n",
              " 'Release Year not found',\n",
              " 'Release Year not found',\n",
              " 'Release Year not found',\n",
              " 'Release Year not found',\n",
              " 'Release Year not found',\n",
              " 'Release Year not found',\n",
              " 'Release Year not found',\n",
              " 'Release Year not found',\n",
              " 'Release Year not found',\n",
              " 'Release Year not found',\n",
              " 'Release Year not found',\n",
              " '',\n",
              " 'Release Year not found',\n",
              " 'Release Year not found',\n",
              " 'Release Year not found',\n",
              " 'Release Year not found',\n",
              " 'Release Year not found',\n",
              " 'Release Year not found',\n",
              " 'Release Year not found',\n",
              " 'Release Year not found',\n",
              " 'Release Year not found',\n",
              " 'Release Year not found',\n",
              " '',\n",
              " 'Release Year not found',\n",
              " 'Release Year not found',\n",
              " 'Release Year not found',\n",
              " 'Release Year not found',\n",
              " 'Release Year not found',\n",
              " 'Release Year not found',\n",
              " 'Release Year not found',\n",
              " '']"
            ]
          },
          "metadata": {},
          "execution_count": 44
        }
      ]
    },
    {
      "cell_type": "markdown",
      "source": [
        "## **Scrapping Genres**"
      ],
      "metadata": {
        "id": "13-it5lTY9nc"
      }
    },
    {
      "cell_type": "code",
      "source": [
        "# Write Your Code here\n",
        "#scrapping genre\n",
        "def fetch_genre(url):\n",
        "    response = requests.get(url)\n",
        "    if response.status_code == 200:\n",
        "        soup = BeautifulSoup(response.content, 'html.parser')\n",
        "\n",
        "        # Find the genres using the provided XPath expression\n",
        "        genres_heading = soup.find('h3', class_='detail-infos__subheading', text='Genres')\n",
        "        if genres_heading:\n",
        "            genres_element = genres_heading.find_next_sibling('div', class_='detail-infos__value')\n",
        "            genres = genres_element.text.strip()\n",
        "\n",
        "            # Split the genres into a list\n",
        "            genres_list = [genre.strip() for genre in genres.split(',')]\n",
        "            return genres_list\n",
        "    return None\n",
        "\n",
        "# Fetch genres for each URL in 'movies' and store in a new list 'all_genres'\n",
        "movie_genres = []\n",
        "\n",
        "for movie_url in movies:\n",
        "    genres = fetch_genre(movie_url)\n",
        "    if genres:\n",
        "        movie_genres.extend(genres)\n",
        "\n",
        "# Print the list of all genres\n",
        "print(movie_genres)"
      ],
      "metadata": {
        "colab": {
          "base_uri": "https://localhost:8080/"
        },
        "id": "OMoQj0HJY78r",
        "outputId": "7e7d7091-7827-4122-f88f-70a67595e369"
      },
      "execution_count": null,
      "outputs": [
        {
          "output_type": "stream",
          "name": "stderr",
          "text": [
            "<ipython-input-45-12b43fca39db>:9: DeprecationWarning: The 'text' argument to find()-type methods is deprecated. Use 'string' instead.\n",
            "  genres_heading = soup.find('h3', class_='detail-infos__subheading', text='Genres')\n"
          ]
        },
        {
          "output_type": "stream",
          "name": "stdout",
          "text": [
            "['Mystery & Thriller', 'Crime', 'Drama', 'Comedy', 'Romance', 'Fantasy', 'Science-Fiction', 'Comedy', 'Drama', 'Comedy', 'Action & Adventure', 'Fantasy', 'Action & Adventure', 'Science-Fiction', 'Action & Adventure', 'Drama', 'History', 'War & Military', 'Comedy']\n"
          ]
        }
      ]
    },
    {
      "cell_type": "code",
      "source": [
        "movie_genres"
      ],
      "metadata": {
        "colab": {
          "base_uri": "https://localhost:8080/"
        },
        "id": "cXI10aPQZJH7",
        "outputId": "d0fa4882-43cb-4678-dfee-fdef02a2feda"
      },
      "execution_count": null,
      "outputs": [
        {
          "output_type": "execute_result",
          "data": {
            "text/plain": [
              "['Mystery & Thriller',\n",
              " 'Crime',\n",
              " 'Drama',\n",
              " 'Comedy',\n",
              " 'Romance',\n",
              " 'Fantasy',\n",
              " 'Science-Fiction',\n",
              " 'Comedy',\n",
              " 'Drama',\n",
              " 'Comedy',\n",
              " 'Action & Adventure',\n",
              " 'Fantasy',\n",
              " 'Action & Adventure',\n",
              " 'Science-Fiction',\n",
              " 'Action & Adventure',\n",
              " 'Drama',\n",
              " 'History',\n",
              " 'War & Military',\n",
              " 'Comedy']"
            ]
          },
          "metadata": {},
          "execution_count": 46
        }
      ]
    },
    {
      "cell_type": "markdown",
      "source": [
        "## **Scrapping IMBD Rating**"
      ],
      "metadata": {
        "id": "Bu6dMfAtZTgO"
      }
    },
    {
      "cell_type": "code",
      "source": [
        "#scrapping imdb rating\n",
        "def fetch_imdb(url):\n",
        "    response = requests.get(url)\n",
        "    if response.status_code == 200:\n",
        "        soup = BeautifulSoup(response.content, 'html.parser')\n",
        "\n",
        "        # Find the genres using the provided XPath expression\n",
        "        imdb_heading = soup.find('h3', class_='detail-infos__subheading', text='Rating')\n",
        "        if imdb_heading:\n",
        "            imdb_element = imdb_heading.find_next_sibling('div', class_='detail-infos__value')\n",
        "            imdb = imdb_element.text.strip()\n",
        "\n",
        "            # Split the genres into a list\n",
        "            imdb_list = [imdb.strip() for imdb in imdb.split(',')]\n",
        "            return imdb_list\n",
        "    return None\n",
        "\n",
        "# Fetch genres for each URL in 'movies' and store in a new list 'all_genres'\n",
        "movie_imdb = []\n",
        "\n",
        "for movie_url in movies:\n",
        "    imdb = fetch_imdb(movie_url)\n",
        "    if imdb:\n",
        "        movie_imdb.extend(imdb)"
      ],
      "metadata": {
        "colab": {
          "base_uri": "https://localhost:8080/"
        },
        "id": "DNN710dIZPyq",
        "outputId": "74a4ac4b-99a2-4e5e-f419-7c02b8323daf"
      },
      "execution_count": null,
      "outputs": [
        {
          "output_type": "stream",
          "name": "stderr",
          "text": [
            "<ipython-input-47-fd822162e749>:8: DeprecationWarning: The 'text' argument to find()-type methods is deprecated. Use 'string' instead.\n",
            "  imdb_heading = soup.find('h3', class_='detail-infos__subheading', text='Rating')\n"
          ]
        }
      ]
    },
    {
      "cell_type": "code",
      "source": [
        "movie_imdb"
      ],
      "metadata": {
        "colab": {
          "base_uri": "https://localhost:8080/"
        },
        "id": "HRP_gj7LZcDl",
        "outputId": "7dfb3e47-9889-495c-ec53-31b77fbd6c7a"
      },
      "execution_count": null,
      "outputs": [
        {
          "output_type": "execute_result",
          "data": {
            "text/plain": [
              "['6.2',\n",
              " '6.1  (69k)',\n",
              " '7.5  (69k)',\n",
              " '7.6  (232k)',\n",
              " '5.8  (1k)',\n",
              " '8.7  (2m)',\n",
              " '8.1  (591k)']"
            ]
          },
          "metadata": {},
          "execution_count": 48
        }
      ]
    },
    {
      "cell_type": "markdown",
      "source": [
        "## **Fetching Streaming Service Details**"
      ],
      "metadata": {
        "id": "K3t544-jZitd"
      }
    },
    {
      "cell_type": "code",
      "source": [
        "# Write Your Code here\n",
        "Provider = []\n",
        "\n",
        "for movie_url in movies:\n",
        "    driver.get(movie_url)\n",
        "\n",
        "    try:\n",
        "        # Find the provider element\n",
        "        provider_element = driver.find_element(By.XPATH, \"//img[@class='offer__icon']\")\n",
        "        provider_name = provider_element.get_attribute('alt')\n",
        "    except:\n",
        "        provider_name = \"Provider not found\"\n",
        "\n",
        "    Provider.append({\"Movie URL\": movie_url, \"Provider Name\": provider_name})\n",
        "\n",
        "for stream in Provider:\n",
        "  print(stream)"
      ],
      "metadata": {
        "colab": {
          "base_uri": "https://localhost:8080/"
        },
        "id": "mB06BRhGZiXd",
        "outputId": "6a06db01-6c0a-444b-b41b-b01a47b91b42"
      },
      "execution_count": null,
      "outputs": [
        {
          "output_type": "stream",
          "name": "stdout",
          "text": [
            "{'Movie URL': 'https://www.justwatch.com/in/movie/hanu-man', 'Provider Name': 'Provider not found'}\n",
            "{'Movie URL': 'https://www.justwatch.com/in/movie/oppenheimer', 'Provider Name': 'Provider not found'}\n",
            "{'Movie URL': 'https://www.justwatch.com/in/movie/untitled-shahid-kapoor-kriti-sanon-film', 'Provider Name': 'Provider not found'}\n",
            "{'Movie URL': 'https://www.justwatch.com/in/movie/fighter-2022', 'Provider Name': 'Provider not found'}\n",
            "{'Movie URL': 'https://www.justwatch.com/in/movie/poor-things', 'Provider Name': 'Provider not found'}\n",
            "{'Movie URL': 'https://www.justwatch.com/in/movie/anatomie-dune-chute', 'Provider Name': 'Provider not found'}\n",
            "{'Movie URL': 'https://www.justwatch.com/in/movie/bramayugam', 'Provider Name': 'Sony Liv'}\n",
            "{'Movie URL': 'https://www.justwatch.com/in/movie/dune-2021', 'Provider Name': 'Provider not found'}\n",
            "{'Movie URL': 'https://www.justwatch.com/in/movie/animal-2022', 'Provider Name': 'Provider not found'}\n",
            "{'Movie URL': 'https://www.justwatch.com/in/movie/merry-christmas-2024', 'Provider Name': 'Provider not found'}\n",
            "{'Movie URL': 'https://www.justwatch.com/in/movie/12th-fail', 'Provider Name': 'Provider not found'}\n",
            "{'Movie URL': 'https://www.justwatch.com/in/movie/anyone-but-you', 'Provider Name': 'Provider not found'}\n",
            "{'Movie URL': 'https://www.justwatch.com/in/movie/road-house-2024', 'Provider Name': 'Provider not found'}\n",
            "{'Movie URL': 'https://www.justwatch.com/in/movie/anweshippin-kandethum', 'Provider Name': 'Provider not found'}\n",
            "{'Movie URL': 'https://www.justwatch.com/in/movie/murder-mubarak', 'Provider Name': 'Provider not found'}\n",
            "{'Movie URL': 'https://www.justwatch.com/in/movie/manjummel-boys', 'Provider Name': 'Provider not found'}\n",
            "{'Movie URL': 'https://www.justwatch.com/in/movie/black-magic-2024', 'Provider Name': 'Provider not found'}\n",
            "{'Movie URL': 'https://www.justwatch.com/in/movie/article-370', 'Provider Name': 'Provider not found'}\n",
            "{'Movie URL': 'https://www.justwatch.com/in/movie/aattam', 'Provider Name': 'Provider not found'}\n",
            "{'Movie URL': 'https://www.justwatch.com/in/movie/salaar', 'Provider Name': 'Netflix'}\n",
            "{'Movie URL': 'https://www.justwatch.com/in/movie/premalu', 'Provider Name': 'Provider not found'}\n",
            "{'Movie URL': 'https://www.justwatch.com/in/movie/sam-bahadur', 'Provider Name': 'Provider not found'}\n",
            "{'Movie URL': 'https://www.justwatch.com/in/movie/eagle-2024', 'Provider Name': 'Provider not found'}\n",
            "{'Movie URL': 'https://www.justwatch.com/in/movie/kung-fu-panda', 'Provider Name': 'Provider not found'}\n",
            "{'Movie URL': 'https://www.justwatch.com/in/movie/damsel-2023', 'Provider Name': 'Provider not found'}\n",
            "{'Movie URL': 'https://www.justwatch.com/in/movie/dune-part-two', 'Provider Name': 'Provider not found'}\n",
            "{'Movie URL': 'https://www.justwatch.com/in/movie/the-beekeeper-2024', 'Provider Name': 'Provider not found'}\n",
            "{'Movie URL': 'https://www.justwatch.com/in/movie/laapataa-ladies', 'Provider Name': 'Provider not found'}\n",
            "{'Movie URL': 'https://www.justwatch.com/in/movie/the-crew-2024', 'Provider Name': 'Provider not found'}\n",
            "{'Movie URL': 'https://www.justwatch.com/in/movie/madame-web', 'Provider Name': 'Provider not found'}\n",
            "{'Movie URL': 'https://www.justwatch.com/in/movie/the-kerala-story', 'Provider Name': 'Provider not found'}\n",
            "{'Movie URL': 'https://www.justwatch.com/in/movie/godzilla-minus-one', 'Provider Name': 'Provider not found'}\n",
            "{'Movie URL': 'https://www.justwatch.com/in/movie/godzilla-x-kong-the-new-empire', 'Provider Name': 'Provider not found'}\n",
            "{'Movie URL': 'https://www.justwatch.com/in/movie/365-days', 'Provider Name': 'Provider not found'}\n",
            "{'Movie URL': 'https://www.justwatch.com/in/movie/abraham-ozler', 'Provider Name': 'Provider not found'}\n",
            "{'Movie URL': 'https://www.justwatch.com/in/movie/dunki', 'Provider Name': 'Provider not found'}\n",
            "{'Movie URL': 'https://www.justwatch.com/in/movie/aquaman-and-the-lost-kingdom', 'Provider Name': 'Provider not found'}\n",
            "{'Movie URL': 'https://www.justwatch.com/in/movie/vadakkupatti-ramasamy', 'Provider Name': 'Provider not found'}\n",
            "{'Movie URL': 'https://www.justwatch.com/in/movie/the-holdovers', 'Provider Name': 'Provider not found'}\n",
            "{'Movie URL': 'https://www.justwatch.com/in/movie/the-zone-of-interest', 'Provider Name': 'Provider not found'}\n",
            "{'Movie URL': 'https://www.justwatch.com/in/movie/lover-2024', 'Provider Name': 'Provider not found'}\n",
            "{'Movie URL': 'https://www.justwatch.com/in/movie/main-atal-hoon', 'Provider Name': 'Provider not found'}\n",
            "{'Movie URL': 'https://www.justwatch.com/in/movie/blackberry', 'Provider Name': 'Provider not found'}\n",
            "{'Movie URL': 'https://www.justwatch.com/in/movie/ferrari', 'Provider Name': 'Provider not found'}\n",
            "{'Movie URL': 'https://www.justwatch.com/in/movie/mission-chapter-1', 'Provider Name': 'Provider not found'}\n",
            "{'Movie URL': 'https://www.justwatch.com/in/movie/migration', 'Provider Name': 'Provider not found'}\n",
            "{'Movie URL': 'https://www.justwatch.com/in/movie/the-gentlemen', 'Provider Name': 'Provider not found'}\n",
            "{'Movie URL': 'https://www.justwatch.com/in/movie/junior-2023', 'Provider Name': 'Amazon Prime Video'}\n",
            "{'Movie URL': 'https://www.justwatch.com/in/movie/harry-potter-and-the-philosophers-stone', 'Provider Name': 'Provider not found'}\n",
            "{'Movie URL': 'https://www.justwatch.com/in/movie/untitled-cord-jefferson-film', 'Provider Name': 'Provider not found'}\n",
            "{'Movie URL': 'https://www.justwatch.com/in/movie/barbie-2023', 'Provider Name': 'Provider not found'}\n",
            "{'Movie URL': 'https://www.justwatch.com/in/movie/ssmb-28', 'Provider Name': 'Provider not found'}\n",
            "{'Movie URL': 'https://www.justwatch.com/in/movie/godzilla-vs-kong', 'Provider Name': 'Provider not found'}\n",
            "{'Movie URL': 'https://www.justwatch.com/in/movie/captain-miller', 'Provider Name': 'Provider not found'}\n",
            "{'Movie URL': 'https://www.justwatch.com/in/movie/madgaon-express', 'Provider Name': 'Provider not found'}\n",
            "{'Movie URL': 'https://www.justwatch.com/in/movie/killers-of-the-flower-moon', 'Provider Name': 'Provider not found'}\n",
            "{'Movie URL': 'https://www.justwatch.com/in/movie/operation-valentine', 'Provider Name': 'Provider not found'}\n",
            "{'Movie URL': 'https://www.justwatch.com/in/movie/kung-fu-panda-4', 'Provider Name': 'Provider not found'}\n",
            "{'Movie URL': 'https://www.justwatch.com/in/movie/jawan', 'Provider Name': 'Provider not found'}\n",
            "{'Movie URL': 'https://www.justwatch.com/in/movie/code-8', 'Provider Name': 'Provider not found'}\n",
            "{'Movie URL': 'https://www.justwatch.com/in/movie/kung-fu-panda-2', 'Provider Name': 'Provider not found'}\n",
            "{'Movie URL': 'https://www.justwatch.com/in/movie/ooru-peru-bhairavakona', 'Provider Name': 'Provider not found'}\n",
            "{'Movie URL': 'https://www.justwatch.com/in/movie/the-wolf-of-wall-street', 'Provider Name': 'Lionsgate Play'}\n",
            "{'Movie URL': 'https://www.justwatch.com/in/movie/ricky-stanicky', 'Provider Name': 'Provider not found'}\n",
            "{'Movie URL': 'https://www.justwatch.com/in/movie/ayalaan', 'Provider Name': 'Provider not found'}\n",
            "{'Movie URL': 'https://www.justwatch.com/in/movie/por', 'Provider Name': 'Provider not found'}\n",
            "{'Movie URL': 'https://www.justwatch.com/in/movie/crakk-jeetegaa-toh-jiyegaa', 'Provider Name': 'Provider not found'}\n",
            "{'Movie URL': 'https://www.justwatch.com/in/movie/yodha-2022', 'Provider Name': 'Provider not found'}\n",
            "{'Movie URL': 'https://www.justwatch.com/in/movie/zara-hatke-zara-bach-ke', 'Provider Name': 'Provider not found'}\n",
            "{'Movie URL': 'https://www.justwatch.com/in/movie/past-lives', 'Provider Name': 'Provider not found'}\n",
            "{'Movie URL': 'https://www.justwatch.com/in/movie/dj-tillu', 'Provider Name': 'Sony Liv'}\n",
            "{'Movie URL': 'https://www.justwatch.com/in/movie/red-eye', 'Provider Name': 'Provider not found'}\n",
            "{'Movie URL': 'https://www.justwatch.com/in/movie/to-kill-a-tiger', 'Provider Name': 'Provider not found'}\n",
            "{'Movie URL': 'https://www.justwatch.com/in/movie/joker-2019', 'Provider Name': 'Provider not found'}\n",
            "{'Movie URL': 'https://www.justwatch.com/in/movie/interstellar', 'Provider Name': 'Provider not found'}\n",
            "{'Movie URL': 'https://www.justwatch.com/in/movie/jatt-nuu-chudail-takri', 'Provider Name': 'Provider not found'}\n",
            "{'Movie URL': 'https://www.justwatch.com/in/movie/thundu', 'Provider Name': 'Provider not found'}\n",
            "{'Movie URL': 'https://www.justwatch.com/in/movie/dream-scenario', 'Provider Name': 'Lionsgate Play'}\n",
            "{'Movie URL': 'https://www.justwatch.com/in/movie/she-said', 'Provider Name': 'Provider not found'}\n",
            "{'Movie URL': 'https://www.justwatch.com/in/movie/spider-man-no-way-home', 'Provider Name': 'Provider not found'}\n",
            "{'Movie URL': 'https://www.justwatch.com/in/movie/kung-fu-panda-3', 'Provider Name': 'Provider not found'}\n",
            "{'Movie URL': 'https://www.justwatch.com/in/movie/uri-the-surgical-strike', 'Provider Name': 'Provider not found'}\n",
            "{'Movie URL': 'https://www.justwatch.com/in/movie/k-g-f-chapter-2', 'Provider Name': 'Provider not found'}\n",
            "{'Movie URL': 'https://www.justwatch.com/in/movie/la-la-land', 'Provider Name': 'Provider not found'}\n",
            "{'Movie URL': 'https://www.justwatch.com/in/movie/snatch', 'Provider Name': 'Provider not found'}\n",
            "{'Movie URL': 'https://www.justwatch.com/in/movie/tumbbad', 'Provider Name': 'Provider not found'}\n",
            "{'Movie URL': 'https://www.justwatch.com/in/movie/kong-skull-island', 'Provider Name': 'Provider not found'}\n",
            "{'Movie URL': 'https://www.justwatch.com/in/movie/argylle', 'Provider Name': 'Provider not found'}\n",
            "{'Movie URL': 'https://www.justwatch.com/in/movie/the-guest-2014', 'Provider Name': 'Provider not found'}\n",
            "{'Movie URL': 'https://www.justwatch.com/in/movie/hacksaw-ridge', 'Provider Name': 'Provider not found'}\n",
            "{'Movie URL': 'https://www.justwatch.com/in/movie/rocky-aur-rani-ki-prem-kahani', 'Provider Name': 'Provider not found'}\n",
            "{'Movie URL': 'https://www.justwatch.com/in/movie/godzilla-king-of-the-monsters', 'Provider Name': 'Apple TV'}\n",
            "{'Movie URL': 'https://www.justwatch.com/in/movie/pushpa', 'Provider Name': 'Provider not found'}\n",
            "{'Movie URL': 'https://www.justwatch.com/in/movie/fast-x', 'Provider Name': 'Provider not found'}\n",
            "{'Movie URL': 'https://www.justwatch.com/in/movie/aadujeevitham', 'Provider Name': 'Provider not found'}\n",
            "{'Movie URL': 'https://www.justwatch.com/in/movie/swatantra-veer-savarkar', 'Provider Name': 'Provider not found'}\n",
            "{'Movie URL': 'https://www.justwatch.com/in/movie/land-of-bad', 'Provider Name': 'Provider not found'}\n",
            "{'Movie URL': 'https://www.justwatch.com/in/movie/masthu-shades-unnai-ra', 'Provider Name': 'Provider not found'}\n",
            "{'Movie URL': 'https://www.justwatch.com/in/movie/godzilla', 'Provider Name': 'Provider not found'}\n",
            "{'Movie URL': 'https://www.justwatch.com/in/movie/upgraded', 'Provider Name': 'Provider not found'}\n"
          ]
        }
      ]
    },
    {
      "cell_type": "code",
      "source": [
        "Movie_streaming = [movie_info['Provider Name'] for movie_info in Provider]\n"
      ],
      "metadata": {
        "id": "_2iAYb0_ZzQg"
      },
      "execution_count": null,
      "outputs": []
    },
    {
      "cell_type": "code",
      "source": [
        "Movie_streaming"
      ],
      "metadata": {
        "colab": {
          "base_uri": "https://localhost:8080/"
        },
        "id": "DKho71TVZ-8N",
        "outputId": "8dc369fc-29ed-4cf0-e123-4557a4258287"
      },
      "execution_count": null,
      "outputs": [
        {
          "output_type": "execute_result",
          "data": {
            "text/plain": [
              "['Provider not found',\n",
              " 'Provider not found',\n",
              " 'Provider not found',\n",
              " 'Provider not found',\n",
              " 'Provider not found',\n",
              " 'Provider not found',\n",
              " 'Sony Liv',\n",
              " 'Provider not found',\n",
              " 'Provider not found',\n",
              " 'Provider not found',\n",
              " 'Provider not found',\n",
              " 'Provider not found',\n",
              " 'Provider not found',\n",
              " 'Provider not found',\n",
              " 'Provider not found',\n",
              " 'Provider not found',\n",
              " 'Provider not found',\n",
              " 'Provider not found',\n",
              " 'Provider not found',\n",
              " 'Netflix',\n",
              " 'Provider not found',\n",
              " 'Provider not found',\n",
              " 'Provider not found',\n",
              " 'Provider not found',\n",
              " 'Provider not found',\n",
              " 'Provider not found',\n",
              " 'Provider not found',\n",
              " 'Provider not found',\n",
              " 'Provider not found',\n",
              " 'Provider not found',\n",
              " 'Provider not found',\n",
              " 'Provider not found',\n",
              " 'Provider not found',\n",
              " 'Provider not found',\n",
              " 'Provider not found',\n",
              " 'Provider not found',\n",
              " 'Provider not found',\n",
              " 'Provider not found',\n",
              " 'Provider not found',\n",
              " 'Provider not found',\n",
              " 'Provider not found',\n",
              " 'Provider not found',\n",
              " 'Provider not found',\n",
              " 'Provider not found',\n",
              " 'Provider not found',\n",
              " 'Provider not found',\n",
              " 'Provider not found',\n",
              " 'Amazon Prime Video',\n",
              " 'Provider not found',\n",
              " 'Provider not found',\n",
              " 'Provider not found',\n",
              " 'Provider not found',\n",
              " 'Provider not found',\n",
              " 'Provider not found',\n",
              " 'Provider not found',\n",
              " 'Provider not found',\n",
              " 'Provider not found',\n",
              " 'Provider not found',\n",
              " 'Provider not found',\n",
              " 'Provider not found',\n",
              " 'Provider not found',\n",
              " 'Provider not found',\n",
              " 'Lionsgate Play',\n",
              " 'Provider not found',\n",
              " 'Provider not found',\n",
              " 'Provider not found',\n",
              " 'Provider not found',\n",
              " 'Provider not found',\n",
              " 'Provider not found',\n",
              " 'Provider not found',\n",
              " 'Sony Liv',\n",
              " 'Provider not found',\n",
              " 'Provider not found',\n",
              " 'Provider not found',\n",
              " 'Provider not found',\n",
              " 'Provider not found',\n",
              " 'Provider not found',\n",
              " 'Lionsgate Play',\n",
              " 'Provider not found',\n",
              " 'Provider not found',\n",
              " 'Provider not found',\n",
              " 'Provider not found',\n",
              " 'Provider not found',\n",
              " 'Provider not found',\n",
              " 'Provider not found',\n",
              " 'Provider not found',\n",
              " 'Provider not found',\n",
              " 'Provider not found',\n",
              " 'Provider not found',\n",
              " 'Provider not found',\n",
              " 'Provider not found',\n",
              " 'Apple TV',\n",
              " 'Provider not found',\n",
              " 'Provider not found',\n",
              " 'Provider not found',\n",
              " 'Provider not found',\n",
              " 'Provider not found',\n",
              " 'Provider not found',\n",
              " 'Provider not found',\n",
              " 'Provider not found']"
            ]
          },
          "metadata": {},
          "execution_count": 51
        }
      ]
    },
    {
      "cell_type": "code",
      "source": [
        "movies"
      ],
      "metadata": {
        "colab": {
          "base_uri": "https://localhost:8080/"
        },
        "id": "kz-K44tEaHXL",
        "outputId": "edba8d6d-9d83-42e5-f869-d3b7356a8228"
      },
      "execution_count": null,
      "outputs": [
        {
          "output_type": "execute_result",
          "data": {
            "text/plain": [
              "['https://www.justwatch.com/in/movie/hanu-man',\n",
              " 'https://www.justwatch.com/in/movie/oppenheimer',\n",
              " 'https://www.justwatch.com/in/movie/untitled-shahid-kapoor-kriti-sanon-film',\n",
              " 'https://www.justwatch.com/in/movie/fighter-2022',\n",
              " 'https://www.justwatch.com/in/movie/poor-things',\n",
              " 'https://www.justwatch.com/in/movie/anatomie-dune-chute',\n",
              " 'https://www.justwatch.com/in/movie/bramayugam',\n",
              " 'https://www.justwatch.com/in/movie/dune-2021',\n",
              " 'https://www.justwatch.com/in/movie/animal-2022',\n",
              " 'https://www.justwatch.com/in/movie/merry-christmas-2024',\n",
              " 'https://www.justwatch.com/in/movie/12th-fail',\n",
              " 'https://www.justwatch.com/in/movie/anyone-but-you',\n",
              " 'https://www.justwatch.com/in/movie/road-house-2024',\n",
              " 'https://www.justwatch.com/in/movie/anweshippin-kandethum',\n",
              " 'https://www.justwatch.com/in/movie/murder-mubarak',\n",
              " 'https://www.justwatch.com/in/movie/manjummel-boys',\n",
              " 'https://www.justwatch.com/in/movie/black-magic-2024',\n",
              " 'https://www.justwatch.com/in/movie/article-370',\n",
              " 'https://www.justwatch.com/in/movie/aattam',\n",
              " 'https://www.justwatch.com/in/movie/salaar',\n",
              " 'https://www.justwatch.com/in/movie/premalu',\n",
              " 'https://www.justwatch.com/in/movie/sam-bahadur',\n",
              " 'https://www.justwatch.com/in/movie/eagle-2024',\n",
              " 'https://www.justwatch.com/in/movie/kung-fu-panda',\n",
              " 'https://www.justwatch.com/in/movie/damsel-2023',\n",
              " 'https://www.justwatch.com/in/movie/dune-part-two',\n",
              " 'https://www.justwatch.com/in/movie/the-beekeeper-2024',\n",
              " 'https://www.justwatch.com/in/movie/laapataa-ladies',\n",
              " 'https://www.justwatch.com/in/movie/the-crew-2024',\n",
              " 'https://www.justwatch.com/in/movie/madame-web',\n",
              " 'https://www.justwatch.com/in/movie/the-kerala-story',\n",
              " 'https://www.justwatch.com/in/movie/godzilla-minus-one',\n",
              " 'https://www.justwatch.com/in/movie/godzilla-x-kong-the-new-empire',\n",
              " 'https://www.justwatch.com/in/movie/365-days',\n",
              " 'https://www.justwatch.com/in/movie/abraham-ozler',\n",
              " 'https://www.justwatch.com/in/movie/dunki',\n",
              " 'https://www.justwatch.com/in/movie/aquaman-and-the-lost-kingdom',\n",
              " 'https://www.justwatch.com/in/movie/vadakkupatti-ramasamy',\n",
              " 'https://www.justwatch.com/in/movie/the-holdovers',\n",
              " 'https://www.justwatch.com/in/movie/the-zone-of-interest',\n",
              " 'https://www.justwatch.com/in/movie/lover-2024',\n",
              " 'https://www.justwatch.com/in/movie/main-atal-hoon',\n",
              " 'https://www.justwatch.com/in/movie/blackberry',\n",
              " 'https://www.justwatch.com/in/movie/ferrari',\n",
              " 'https://www.justwatch.com/in/movie/mission-chapter-1',\n",
              " 'https://www.justwatch.com/in/movie/migration',\n",
              " 'https://www.justwatch.com/in/movie/the-gentlemen',\n",
              " 'https://www.justwatch.com/in/movie/junior-2023',\n",
              " 'https://www.justwatch.com/in/movie/harry-potter-and-the-philosophers-stone',\n",
              " 'https://www.justwatch.com/in/movie/untitled-cord-jefferson-film',\n",
              " 'https://www.justwatch.com/in/movie/barbie-2023',\n",
              " 'https://www.justwatch.com/in/movie/ssmb-28',\n",
              " 'https://www.justwatch.com/in/movie/godzilla-vs-kong',\n",
              " 'https://www.justwatch.com/in/movie/captain-miller',\n",
              " 'https://www.justwatch.com/in/movie/madgaon-express',\n",
              " 'https://www.justwatch.com/in/movie/killers-of-the-flower-moon',\n",
              " 'https://www.justwatch.com/in/movie/operation-valentine',\n",
              " 'https://www.justwatch.com/in/movie/kung-fu-panda-4',\n",
              " 'https://www.justwatch.com/in/movie/jawan',\n",
              " 'https://www.justwatch.com/in/movie/code-8',\n",
              " 'https://www.justwatch.com/in/movie/kung-fu-panda-2',\n",
              " 'https://www.justwatch.com/in/movie/ooru-peru-bhairavakona',\n",
              " 'https://www.justwatch.com/in/movie/the-wolf-of-wall-street',\n",
              " 'https://www.justwatch.com/in/movie/ricky-stanicky',\n",
              " 'https://www.justwatch.com/in/movie/ayalaan',\n",
              " 'https://www.justwatch.com/in/movie/por',\n",
              " 'https://www.justwatch.com/in/movie/crakk-jeetegaa-toh-jiyegaa',\n",
              " 'https://www.justwatch.com/in/movie/yodha-2022',\n",
              " 'https://www.justwatch.com/in/movie/zara-hatke-zara-bach-ke',\n",
              " 'https://www.justwatch.com/in/movie/past-lives',\n",
              " 'https://www.justwatch.com/in/movie/dj-tillu',\n",
              " 'https://www.justwatch.com/in/movie/red-eye',\n",
              " 'https://www.justwatch.com/in/movie/to-kill-a-tiger',\n",
              " 'https://www.justwatch.com/in/movie/joker-2019',\n",
              " 'https://www.justwatch.com/in/movie/interstellar',\n",
              " 'https://www.justwatch.com/in/movie/jatt-nuu-chudail-takri',\n",
              " 'https://www.justwatch.com/in/movie/thundu',\n",
              " 'https://www.justwatch.com/in/movie/dream-scenario',\n",
              " 'https://www.justwatch.com/in/movie/she-said',\n",
              " 'https://www.justwatch.com/in/movie/spider-man-no-way-home',\n",
              " 'https://www.justwatch.com/in/movie/kung-fu-panda-3',\n",
              " 'https://www.justwatch.com/in/movie/uri-the-surgical-strike',\n",
              " 'https://www.justwatch.com/in/movie/k-g-f-chapter-2',\n",
              " 'https://www.justwatch.com/in/movie/la-la-land',\n",
              " 'https://www.justwatch.com/in/movie/snatch',\n",
              " 'https://www.justwatch.com/in/movie/tumbbad',\n",
              " 'https://www.justwatch.com/in/movie/kong-skull-island',\n",
              " 'https://www.justwatch.com/in/movie/argylle',\n",
              " 'https://www.justwatch.com/in/movie/the-guest-2014',\n",
              " 'https://www.justwatch.com/in/movie/hacksaw-ridge',\n",
              " 'https://www.justwatch.com/in/movie/rocky-aur-rani-ki-prem-kahani',\n",
              " 'https://www.justwatch.com/in/movie/godzilla-king-of-the-monsters',\n",
              " 'https://www.justwatch.com/in/movie/pushpa',\n",
              " 'https://www.justwatch.com/in/movie/fast-x',\n",
              " 'https://www.justwatch.com/in/movie/aadujeevitham',\n",
              " 'https://www.justwatch.com/in/movie/swatantra-veer-savarkar',\n",
              " 'https://www.justwatch.com/in/movie/land-of-bad',\n",
              " 'https://www.justwatch.com/in/movie/masthu-shades-unnai-ra',\n",
              " 'https://www.justwatch.com/in/movie/godzilla',\n",
              " 'https://www.justwatch.com/in/movie/upgraded']"
            ]
          },
          "metadata": {},
          "execution_count": 52
        }
      ]
    },
    {
      "cell_type": "code",
      "source": [
        "driver.quit()"
      ],
      "metadata": {
        "id": "OuLZdNhXaMYm"
      },
      "execution_count": null,
      "outputs": []
    },
    {
      "cell_type": "markdown",
      "source": [
        "## **Now Creating Movies DataFrame**"
      ],
      "metadata": {
        "id": "rnui2byPaR4n"
      }
    },
    {
      "cell_type": "code",
      "source": [
        "print(len(movie_names))\n",
        "print(len(movie_release_years))\n",
        "print(len(movie_genres))\n",
        "print(len(movies))\n",
        "print(len(movie_imdb))\n",
        "print(len(Movie_streaming))"
      ],
      "metadata": {
        "colab": {
          "base_uri": "https://localhost:8080/"
        },
        "id": "Qd3VZlHJaS4o",
        "outputId": "2d43e45c-99f4-4594-866a-6e02aa90996e"
      },
      "execution_count": null,
      "outputs": [
        {
          "output_type": "stream",
          "name": "stdout",
          "text": [
            "100\n",
            "100\n",
            "19\n",
            "100\n",
            "7\n",
            "100\n"
          ]
        }
      ]
    },
    {
      "cell_type": "code",
      "source": [
        "#Creatind datafame of scrapped movie data\n",
        "import pandas as pd\n",
        "Movies_data=pd.DataFrame()\n",
        "Movies_data['Movie Names']=movie_names[:80]\n",
        "Movies_data['Release Year']=movie_release_years[:80]\n",
        "Movies_data['Movie Genres']=movie_genres[:80]\n",
        "Movies_data['Movie IMDb Ratings']=movie_imdb[:80]\n",
        "Movies_data['Movie Url']=movies[:80]\n",
        "Movies_data['Movie Streaming Service']=Movie_streaming[:80]\n"
      ],
      "metadata": {
        "colab": {
          "base_uri": "https://localhost:8080/",
          "height": 373
        },
        "id": "vfv2GAPlaW9c",
        "outputId": "20f9e8cc-01dc-49ad-bbb1-2a967ae78c84"
      },
      "execution_count": null,
      "outputs": [
        {
          "output_type": "error",
          "ename": "ValueError",
          "evalue": "Length of values (19) does not match length of index (80)",
          "traceback": [
            "\u001b[0;31m---------------------------------------------------------------------------\u001b[0m",
            "\u001b[0;31mValueError\u001b[0m                                Traceback (most recent call last)",
            "\u001b[0;32m<ipython-input-55-f4030fc88686>\u001b[0m in \u001b[0;36m<cell line: 6>\u001b[0;34m()\u001b[0m\n\u001b[1;32m      4\u001b[0m \u001b[0mMovies_data\u001b[0m\u001b[0;34m[\u001b[0m\u001b[0;34m'Movie Names'\u001b[0m\u001b[0;34m]\u001b[0m\u001b[0;34m=\u001b[0m\u001b[0mmovie_names\u001b[0m\u001b[0;34m[\u001b[0m\u001b[0;34m:\u001b[0m\u001b[0;36m80\u001b[0m\u001b[0;34m]\u001b[0m\u001b[0;34m\u001b[0m\u001b[0;34m\u001b[0m\u001b[0m\n\u001b[1;32m      5\u001b[0m \u001b[0mMovies_data\u001b[0m\u001b[0;34m[\u001b[0m\u001b[0;34m'Release Year'\u001b[0m\u001b[0;34m]\u001b[0m\u001b[0;34m=\u001b[0m\u001b[0mmovie_release_years\u001b[0m\u001b[0;34m[\u001b[0m\u001b[0;34m:\u001b[0m\u001b[0;36m80\u001b[0m\u001b[0;34m]\u001b[0m\u001b[0;34m\u001b[0m\u001b[0;34m\u001b[0m\u001b[0m\n\u001b[0;32m----> 6\u001b[0;31m \u001b[0mMovies_data\u001b[0m\u001b[0;34m[\u001b[0m\u001b[0;34m'Movie Genres'\u001b[0m\u001b[0;34m]\u001b[0m\u001b[0;34m=\u001b[0m\u001b[0mmovie_genres\u001b[0m\u001b[0;34m[\u001b[0m\u001b[0;34m:\u001b[0m\u001b[0;36m80\u001b[0m\u001b[0;34m]\u001b[0m\u001b[0;34m\u001b[0m\u001b[0;34m\u001b[0m\u001b[0m\n\u001b[0m\u001b[1;32m      7\u001b[0m \u001b[0mMovies_data\u001b[0m\u001b[0;34m[\u001b[0m\u001b[0;34m'Movie IMDb Ratings'\u001b[0m\u001b[0;34m]\u001b[0m\u001b[0;34m=\u001b[0m\u001b[0mmovie_imdb\u001b[0m\u001b[0;34m[\u001b[0m\u001b[0;34m:\u001b[0m\u001b[0;36m80\u001b[0m\u001b[0;34m]\u001b[0m\u001b[0;34m\u001b[0m\u001b[0;34m\u001b[0m\u001b[0m\n\u001b[1;32m      8\u001b[0m \u001b[0mMovies_data\u001b[0m\u001b[0;34m[\u001b[0m\u001b[0;34m'Movie Url'\u001b[0m\u001b[0;34m]\u001b[0m\u001b[0;34m=\u001b[0m\u001b[0mmovies\u001b[0m\u001b[0;34m[\u001b[0m\u001b[0;34m:\u001b[0m\u001b[0;36m80\u001b[0m\u001b[0;34m]\u001b[0m\u001b[0;34m\u001b[0m\u001b[0;34m\u001b[0m\u001b[0m\n",
            "\u001b[0;32m/usr/local/lib/python3.10/dist-packages/pandas/core/frame.py\u001b[0m in \u001b[0;36m__setitem__\u001b[0;34m(self, key, value)\u001b[0m\n\u001b[1;32m   3948\u001b[0m         \u001b[0;32melse\u001b[0m\u001b[0;34m:\u001b[0m\u001b[0;34m\u001b[0m\u001b[0;34m\u001b[0m\u001b[0m\n\u001b[1;32m   3949\u001b[0m             \u001b[0;31m# set column\u001b[0m\u001b[0;34m\u001b[0m\u001b[0;34m\u001b[0m\u001b[0m\n\u001b[0;32m-> 3950\u001b[0;31m             \u001b[0mself\u001b[0m\u001b[0;34m.\u001b[0m\u001b[0m_set_item\u001b[0m\u001b[0;34m(\u001b[0m\u001b[0mkey\u001b[0m\u001b[0;34m,\u001b[0m \u001b[0mvalue\u001b[0m\u001b[0;34m)\u001b[0m\u001b[0;34m\u001b[0m\u001b[0;34m\u001b[0m\u001b[0m\n\u001b[0m\u001b[1;32m   3951\u001b[0m \u001b[0;34m\u001b[0m\u001b[0m\n\u001b[1;32m   3952\u001b[0m     \u001b[0;32mdef\u001b[0m \u001b[0m_setitem_slice\u001b[0m\u001b[0;34m(\u001b[0m\u001b[0mself\u001b[0m\u001b[0;34m,\u001b[0m \u001b[0mkey\u001b[0m\u001b[0;34m:\u001b[0m \u001b[0mslice\u001b[0m\u001b[0;34m,\u001b[0m \u001b[0mvalue\u001b[0m\u001b[0;34m)\u001b[0m \u001b[0;34m->\u001b[0m \u001b[0;32mNone\u001b[0m\u001b[0;34m:\u001b[0m\u001b[0;34m\u001b[0m\u001b[0;34m\u001b[0m\u001b[0m\n",
            "\u001b[0;32m/usr/local/lib/python3.10/dist-packages/pandas/core/frame.py\u001b[0m in \u001b[0;36m_set_item\u001b[0;34m(self, key, value)\u001b[0m\n\u001b[1;32m   4141\u001b[0m         \u001b[0mensure\u001b[0m \u001b[0mhomogeneity\u001b[0m\u001b[0;34m.\u001b[0m\u001b[0;34m\u001b[0m\u001b[0;34m\u001b[0m\u001b[0m\n\u001b[1;32m   4142\u001b[0m         \"\"\"\n\u001b[0;32m-> 4143\u001b[0;31m         \u001b[0mvalue\u001b[0m \u001b[0;34m=\u001b[0m \u001b[0mself\u001b[0m\u001b[0;34m.\u001b[0m\u001b[0m_sanitize_column\u001b[0m\u001b[0;34m(\u001b[0m\u001b[0mvalue\u001b[0m\u001b[0;34m)\u001b[0m\u001b[0;34m\u001b[0m\u001b[0;34m\u001b[0m\u001b[0m\n\u001b[0m\u001b[1;32m   4144\u001b[0m \u001b[0;34m\u001b[0m\u001b[0m\n\u001b[1;32m   4145\u001b[0m         if (\n",
            "\u001b[0;32m/usr/local/lib/python3.10/dist-packages/pandas/core/frame.py\u001b[0m in \u001b[0;36m_sanitize_column\u001b[0;34m(self, value)\u001b[0m\n\u001b[1;32m   4868\u001b[0m \u001b[0;34m\u001b[0m\u001b[0m\n\u001b[1;32m   4869\u001b[0m         \u001b[0;32mif\u001b[0m \u001b[0mis_list_like\u001b[0m\u001b[0;34m(\u001b[0m\u001b[0mvalue\u001b[0m\u001b[0;34m)\u001b[0m\u001b[0;34m:\u001b[0m\u001b[0;34m\u001b[0m\u001b[0;34m\u001b[0m\u001b[0m\n\u001b[0;32m-> 4870\u001b[0;31m             \u001b[0mcom\u001b[0m\u001b[0;34m.\u001b[0m\u001b[0mrequire_length_match\u001b[0m\u001b[0;34m(\u001b[0m\u001b[0mvalue\u001b[0m\u001b[0;34m,\u001b[0m \u001b[0mself\u001b[0m\u001b[0;34m.\u001b[0m\u001b[0mindex\u001b[0m\u001b[0;34m)\u001b[0m\u001b[0;34m\u001b[0m\u001b[0;34m\u001b[0m\u001b[0m\n\u001b[0m\u001b[1;32m   4871\u001b[0m         \u001b[0;32mreturn\u001b[0m \u001b[0msanitize_array\u001b[0m\u001b[0;34m(\u001b[0m\u001b[0mvalue\u001b[0m\u001b[0;34m,\u001b[0m \u001b[0mself\u001b[0m\u001b[0;34m.\u001b[0m\u001b[0mindex\u001b[0m\u001b[0;34m,\u001b[0m \u001b[0mcopy\u001b[0m\u001b[0;34m=\u001b[0m\u001b[0;32mTrue\u001b[0m\u001b[0;34m,\u001b[0m \u001b[0mallow_2d\u001b[0m\u001b[0;34m=\u001b[0m\u001b[0;32mTrue\u001b[0m\u001b[0;34m)\u001b[0m\u001b[0;34m\u001b[0m\u001b[0;34m\u001b[0m\u001b[0m\n\u001b[1;32m   4872\u001b[0m \u001b[0;34m\u001b[0m\u001b[0m\n",
            "\u001b[0;32m/usr/local/lib/python3.10/dist-packages/pandas/core/common.py\u001b[0m in \u001b[0;36mrequire_length_match\u001b[0;34m(data, index)\u001b[0m\n\u001b[1;32m    574\u001b[0m     \"\"\"\n\u001b[1;32m    575\u001b[0m     \u001b[0;32mif\u001b[0m \u001b[0mlen\u001b[0m\u001b[0;34m(\u001b[0m\u001b[0mdata\u001b[0m\u001b[0;34m)\u001b[0m \u001b[0;34m!=\u001b[0m \u001b[0mlen\u001b[0m\u001b[0;34m(\u001b[0m\u001b[0mindex\u001b[0m\u001b[0;34m)\u001b[0m\u001b[0;34m:\u001b[0m\u001b[0;34m\u001b[0m\u001b[0;34m\u001b[0m\u001b[0m\n\u001b[0;32m--> 576\u001b[0;31m         raise ValueError(\n\u001b[0m\u001b[1;32m    577\u001b[0m             \u001b[0;34m\"Length of values \"\u001b[0m\u001b[0;34m\u001b[0m\u001b[0;34m\u001b[0m\u001b[0m\n\u001b[1;32m    578\u001b[0m             \u001b[0;34mf\"({len(data)}) \"\u001b[0m\u001b[0;34m\u001b[0m\u001b[0;34m\u001b[0m\u001b[0m\n",
            "\u001b[0;31mValueError\u001b[0m: Length of values (19) does not match length of index (80)"
          ]
        }
      ]
    },
    {
      "cell_type": "code",
      "source": [],
      "metadata": {
        "id": "uPqhrcaBbupb"
      },
      "execution_count": null,
      "outputs": []
    }
  ]
}